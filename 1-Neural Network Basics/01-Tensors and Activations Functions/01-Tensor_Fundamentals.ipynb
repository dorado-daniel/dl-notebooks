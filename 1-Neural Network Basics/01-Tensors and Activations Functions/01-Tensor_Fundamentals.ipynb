{
 "cells": [
  {
   "cell_type": "markdown",
   "id": "5aa6fb33",
   "metadata": {},
   "source": [
    "# Tensores"
   ]
  },
  {
   "cell_type": "markdown",
   "id": "9849a2b2",
   "metadata": {},
   "source": [
    "Un tensor es como un array de Numpy, pero con soporte para GPU y gradientes.+\n",
    "Los tensores son la unidad mínima de datos en deep learning.\n",
    "Todo modelo se reduce a operaciones tensoriales (suma, multiplicación, activación).\n",
    "Forward pass = aplicar una serie de transformaciones determinísticas sobre tensores.\n",
    "\n",
    "requires_grad=True activa el seguimiento para el backprop posterior."
   ]
  },
  {
   "cell_type": "code",
   "execution_count": 4,
   "id": "de78955a",
   "metadata": {},
   "outputs": [
    {
     "name": "stdout",
     "output_type": "stream",
     "text": [
      "Usando: cuda\n",
      "|===========================================================================|\n",
      "|                  PyTorch CUDA memory summary, device ID 0                 |\n",
      "|---------------------------------------------------------------------------|\n",
      "|            CUDA OOMs: 0            |        cudaMalloc retries: 0         |\n",
      "|===========================================================================|\n",
      "|        Metric         | Cur Usage  | Peak Usage | Tot Alloc  | Tot Freed  |\n",
      "|---------------------------------------------------------------------------|\n",
      "| Allocated memory      |      0 B   |      0 B   |      0 B   |      0 B   |\n",
      "|---------------------------------------------------------------------------|\n",
      "| Active memory         |      0 B   |      0 B   |      0 B   |      0 B   |\n",
      "|---------------------------------------------------------------------------|\n",
      "| Requested memory      |      0 B   |      0 B   |      0 B   |      0 B   |\n",
      "|---------------------------------------------------------------------------|\n",
      "| GPU reserved memory   |      0 B   |      0 B   |      0 B   |      0 B   |\n",
      "|---------------------------------------------------------------------------|\n",
      "| Non-releasable memory |      0 B   |      0 B   |      0 B   |      0 B   |\n",
      "|---------------------------------------------------------------------------|\n",
      "| Allocations           |       0    |       0    |       0    |       0    |\n",
      "|---------------------------------------------------------------------------|\n",
      "| Active allocs         |       0    |       0    |       0    |       0    |\n",
      "|---------------------------------------------------------------------------|\n",
      "| GPU reserved segments |       0    |       0    |       0    |       0    |\n",
      "|---------------------------------------------------------------------------|\n",
      "| Non-releasable allocs |       0    |       0    |       0    |       0    |\n",
      "|---------------------------------------------------------------------------|\n",
      "| Oversize allocations  |       0    |       0    |       0    |       0    |\n",
      "|---------------------------------------------------------------------------|\n",
      "| Oversize GPU segments |       0    |       0    |       0    |       0    |\n",
      "|===========================================================================|\n",
      "\n"
     ]
    }
   ],
   "source": [
    "#SETUP\n",
    "import torch\n",
    "\n",
    "#Seed para reproducibilidad, los pesos y biases son aleatorios\n",
    "#pero queremos que sean los mismos en cada run\n",
    "torch.manual_seed(42)\n",
    "\n",
    "device = torch.device(\"cuda\" if torch.cuda.is_available() else \"cpu\")\n",
    "\n",
    "print(\"Usando:\", device)\n",
    "torch.cuda.get_device_name(0)\n",
    "print(torch.cuda.memory_summary(device=None, abbreviated=True))\n",
    "\n"
   ]
  },
  {
   "cell_type": "code",
   "execution_count": null,
   "id": "b55fda8a",
   "metadata": {},
   "outputs": [
    {
     "name": "stdout",
     "output_type": "stream",
     "text": [
      "=== Datos de entrada (x) ===\n",
      "tensor([[ 90.,   3.],\n",
      "        [120.,   4.],\n",
      "        [ 60.,   2.]], device='cuda:0')\n",
      "\n",
      "=== Pesos (w) ===\n",
      "tensor([[0.8000],\n",
      "        [0.3000]], device='cuda:0')\n",
      "\n",
      "=== Bias (b) ===\n",
      "tensor([10.], device='cuda:0')\n",
      "\n",
      "=== Salida (y = x @ w + b) ===\n",
      "tensor([[ 82.9000],\n",
      "        [107.2000],\n",
      "        [ 58.6000]], device='cuda:0')\n"
     ]
    }
   ],
   "source": [
    "# Declaramos tensores de entrada, pesos y bias en GPU.\n",
    "# Esto representa el núcleo matemático de una sola neurona (perceptrón lineal).\n",
    "\n",
    "# x tiene forma (3, 2):\n",
    "#   - 3 filas → 3 casas (3 muestras)\n",
    "#   - 2 columnas → 2 características por casa (tamaño, nº de habitaciones)\n",
    "# Estos datos vendrian de un dataset de casas.\n",
    "x = torch.tensor([\n",
    "    [90.0, 3.0],   # Casa 1\n",
    "    [120.0, 4.0],  # Casa 2\n",
    "    [60.0, 2.0]    # Casa 3\n",
    "], device=\"cuda\")\n",
    "\n",
    "# w tiene forma (2, 1):\n",
    "#   - 2 filas → un peso por cada característica de entrada\n",
    "#   - 1 columna → una neurona (una salida)\n",
    "# Supongamos que el tamaño influye más que el número de habitaciones.\n",
    "# Estos pesos serian random, pero los fijamos para el ejemplo.\n",
    "w = torch.tensor([\n",
    "    [0.8],  # peso asociado al tamaño\n",
    "    [0.3]   # peso asociado a las habitaciones\n",
    "], device=\"cuda\")\n",
    "\n",
    "# b tiene forma (1,):\n",
    "#   - un sesgo que ajusta la salida de todas las muestras.\n",
    "b = torch.tensor([10.0], device=\"cuda\")\n",
    "\n",
    "# operación lineal: y = x @ w + b\n",
    "#   - @ es el producto matricial\n",
    "#   - El bias se suma a cada fila del resultado\n",
    "y = x @ w + b\n",
    "\n",
    "print(\"=== Datos de entrada (x) ===\")\n",
    "print(x)\n",
    "print(\"\\n=== Pesos (w) ===\")\n",
    "print(w)\n",
    "print(\"\\n=== Bias (b) ===\")\n",
    "print(b)\n",
    "print(\"\\n=== Salida (y = x @ w + b) ===\")\n",
    "print(y)"
   ]
  },
  {
   "cell_type": "markdown",
   "id": "40fab1ef",
   "metadata": {},
   "source": [
    "\n",
    "### Tensores aplicados a imagenes.\n",
    "Esto esta relacionado con el notebok 2-CNN-Color\n",
    "Nos ayudará a entender que hace.\n",
    "En especifico con la linea:\n",
    "\n",
    " x.sum(dim=(0,2,3))"
   ]
  },
  {
   "cell_type": "code",
   "execution_count": null,
   "id": "27cac20e",
   "metadata": {},
   "outputs": [
    {
     "name": "stdout",
     "output_type": "stream",
     "text": [
      "shape: torch.Size([2, 3, 2, 2])\n"
     ]
    }
   ],
   "source": [
    "import torch\n",
    "# Creamos un tensor de 4D 2 imagenes, 3 canales, 2 filas y 2 columnas\n",
    "# [batch=2, canales=3, alto=2, ancho=2]\n",
    "\n",
    "#los pixeles se representan por la posicion de cada numero\n",
    "#Un unico canal se compone de 1 matriz 2x2\n",
    "#Un sample (imagen) son entonces 3 matrices: una por cada canal\n",
    "#Como la imagen es de 2x2, cada matriz tiene 2 filas y 2 columnas\n",
    "\n",
    "#Como tenemos 2 imagenes, tenemos 2 samples dentro de un batch\n",
    "x = torch.tensor([\n",
    "    [  # Imagen 1 (sample  1) una imagen tiene 3 dimensiones\n",
    "        [[1, 2],    # Primera fila de pixeles del canal R\n",
    "         [3, 4]],    # canal R\n",
    "\n",
    "        [[5, 6],\n",
    "         [7, 8]],    # canal G\n",
    "\n",
    "        [[9,10],\n",
    "         [11,12]]    # canal B\n",
    "    ],\n",
    "    [  # Imagen 2 (sample  2)\n",
    "        [[13,14], \n",
    "         [15,16]],   # canal R\n",
    "\n",
    "        [[17,18],\n",
    "         [19,20]],   # canal G\n",
    "\n",
    "        [[21,22],\n",
    "         [23,24]]    # canal B\n",
    "    ]\n",
    "], dtype=torch.float32)\n",
    "\n",
    "print(\"shape:\", x.shape)   # [2, 3, 2, 2]\n"
   ]
  },
  {
   "cell_type": "markdown",
   "id": "16f74164",
   "metadata": {},
   "source": [
    "Vamos a visualizarlo."
   ]
  },
  {
   "cell_type": "code",
   "execution_count": 2,
   "id": "7862f25a",
   "metadata": {},
   "outputs": [
    {
     "data": {
      "image/png": "[encoded data removed]",
      "text/plain": [
       "<Figure size 800x300 with 3 Axes>"
      ]
     },
     "metadata": {},
     "output_type": "display_data"
    }
   ],
   "source": [
    "import matplotlib.pyplot as plt\n",
    "\n",
    "# Seleccionamos la primera imagen del batch\n",
    "img = x[0]  # shape [3, 2, 2]\n",
    "\n",
    "# Extraemos los tres canales individuales\n",
    "r = img[0]  # canal rojo\n",
    "g = img[1]  # canal verde\n",
    "b = img[2]  # canal azul\n",
    "\n",
    "# Mostramos los tres canales por separado\n",
    "fig, axs = plt.subplots(1, 3, figsize=(8, 3))\n",
    "\n",
    "axs[0].imshow(r, cmap='Reds')\n",
    "axs[0].set_title('Canal R')\n",
    "axs[1].imshow(g, cmap='Greens')\n",
    "axs[1].set_title('Canal G')\n",
    "axs[2].imshow(b, cmap='Blues')\n",
    "axs[2].set_title('Canal B')\n",
    "\n",
    "for ax in axs:\n",
    "    ax.axis('off')\n",
    "\n",
    "plt.tight_layout()\n",
    "plt.show()\n"
   ]
  }
 ],
 "metadata": {
  "kernelspec": {
   "display_name": "dlvs",
   "language": "python",
   "name": "python3"
  },
  "language_info": {
   "codemirror_mode": {
    "name": "ipython",
    "version": 3
   },
   "file_extension": ".py",
   "mimetype": "text/x-python",
   "name": "python",
   "nbconvert_exporter": "python",
   "pygments_lexer": "ipython3",
   "version": "3.12.3"
  }
 },
 "nbformat": 4,
 "nbformat_minor": 5
}
