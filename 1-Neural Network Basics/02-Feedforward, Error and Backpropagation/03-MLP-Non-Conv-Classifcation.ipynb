{
 "cells": [
  {
   "cell_type": "markdown",
   "id": "6582a54e",
   "metadata": {},
   "source": [
    "# Non Convolutional Image Classification \n",
    "\n",
    "Para entender las diferencias y mejoras entre la clasificacion entre MLPs con y sin convolución, vamos a montar un MLP para clasificar sin convolución, usando MNIST Dataset."
   ]
  },
  {
   "cell_type": "code",
   "execution_count": 14,
   "id": "218fc9a6",
   "metadata": {},
   "outputs": [
    {
     "name": "stdout",
     "output_type": "stream",
     "text": [
      "cuda\n",
      "60000\n"
     ]
    }
   ],
   "source": [
    "# Preparamos los datos para el entrenamiento con el dataset MNIST\n",
    "import torch\n",
    "from torchvision import datasets, transforms\n",
    "torch.manual_seed(42)\n",
    "\n",
    "device = torch.device(\"cuda\" if torch.cuda.is_available() else \"cpu\")\n",
    "print(device)\n",
    "# Creamos un transformador para convertir las imágenes en tensores\n",
    "transform = transforms.ToTensor()\n",
    "\n",
    "# Cargamos el dataset MNIST en el directorio ./data\n",
    "train_set = datasets.MNIST(root=\"./data\", train=True, download=True, transform=transform)\n",
    "\n",
    "# Creamos un DataLoader para iterar sobre el dataset en lotes de 4 imágenes, con shuffle activado\n",
    "train_loader = torch.utils.data.DataLoader(train_set, batch_size=4, shuffle=True)\n",
    "\n",
    "print(len(train_set))\n",
    "\n",
    "\n"
   ]
  },
  {
   "cell_type": "markdown",
   "id": "8007feeb",
   "metadata": {},
   "source": [
    "Vamos a visualizar las imagenes para hacernos una idea del DS con el que trabajamos,\n",
    "ya que en el dataset las imagenes ya estan convertidas.\n",
    "\n",
    "Notese que en cada ejecución nos devuelve un bathc distinto por tener activado shuffle."
   ]
  },
  {
   "cell_type": "code",
   "execution_count": 15,
   "id": "c54dc0a4",
   "metadata": {},
   "outputs": [
    {
     "name": "stdout",
     "output_type": "stream",
     "text": [
      "torch.Size([4, 1, 28, 28]) tensor([1, 2, 8, 5])\n"
     ]
    },
    {
     "data": {
      "image/png": "[encoded data removed]",
      "text/plain": [
       "<Figure size 800x200 with 4 Axes>"
      ]
     },
     "metadata": {},
     "output_type": "display_data"
    }
   ],
   "source": [
    "import matplotlib.pyplot as plt\n",
    "\n",
    "# Obtenemos un lote de imágenes y etiquetas (4 imágenes y 4 etiquetas)\n",
    "images, labels = next(iter(train_loader))\n",
    "\n",
    "print(images.shape, labels)\n",
    "assert images.shape == (4, 1, 28, 28)\n",
    "\n",
    "\n",
    "# Mostramos las 4 imágenes del batch\n",
    "fig, axes = plt.subplots(1, 4, figsize=(8, 2))\n",
    "for i in range(4):\n",
    "    axes[i].imshow(images[i][0], cmap=\"gray\")\n",
    "    axes[i].set_title(f\"Label: {labels[i].item()}\")\n",
    "    axes[i].axis(\"off\")\n",
    "plt.show()\n"
   ]
  },
  {
   "cell_type": "markdown",
   "id": "a3a53253",
   "metadata": {},
   "source": [
    "Como un MLP clasico sin convolución, esta formado por capas lineales, esta esperando vectores de entrada, por lo que debemos \"aplanar\" la imagen.\n",
    "Esto hace que se pierda la información de que pixeles son vecinos unos de otros, por ello la clasificación de imagenes sin convolución suele ser peor.\n",
    "Con este DS especifico, el trabajo será bueno aún así, debido a que las imagenes estan muy bien preprocesadas, pero en general, es deficiente con otros DS en comparación a la convolución."
   ]
  },
  {
   "cell_type": "code",
   "execution_count": 16,
   "id": "c0d8fef5",
   "metadata": {},
   "outputs": [
    {
     "name": "stdout",
     "output_type": "stream",
     "text": [
      "torch.Size([4, 784])\n"
     ]
    },
    {
     "data": {
      "image/png": "[encoded data removed]",
      "text/plain": [
       "<Figure size 600x300 with 2 Axes>"
      ]
     },
     "metadata": {},
     "output_type": "display_data"
    }
   ],
   "source": [
    "# Flatten: (batch, 1, 28, 28) → (batch, 784)\n",
    "\n",
    "#Convertimos cada imagen del batch en un vector de 784 elementos\n",
    "x = torch.flatten(images, start_dim=1)\n",
    "\n",
    "\n",
    "print(x.shape)\n",
    "assert x.shape == (4, 784)\n",
    "\n",
    "\n",
    "#Vamos a visualizar uno de los vectores de los 4 del batch para entender que,\n",
    "# lo que se hace es convertir la imagen de 28x28 en un vector de 784 elementos,\n",
    "# perdiendo toda la información de la posición de los pixeles.\n",
    "\n",
    "fig, axes = plt.subplots(1, 2, figsize=(6, 3))\n",
    "\n",
    "# Original 2D (28x28)\n",
    "axes[0].imshow(images[0][0], cmap=\"gray\")\n",
    "axes[0].set_title(\"Imagen original 28×28\")\n",
    "axes[0].axis(\"off\")\n",
    "\n",
    "# Vector aplanado 1D (784 valores)\n",
    "axes[1].imshow(x[0].reshape(1, -1), cmap=\"gray\", aspect=\"auto\")\n",
    "axes[1].set_title(\"Vector aplanado (784)\")\n",
    "axes[1].axis(\"off\")\n",
    "\n",
    "plt.tight_layout()\n",
    "plt.show()\n"
   ]
  },
  {
   "cell_type": "markdown",
   "id": "e77bdcbc",
   "metadata": {},
   "source": [
    "Vamos a crear nuestra red a mandarla a usar CUDA\n"
   ]
  },
  {
   "cell_type": "markdown",
   "id": "af3083d0",
   "metadata": {},
   "source": [
    "También mostraremos un summary de los parametros totales, además de el shape para un batch de 4 imagenes y 10 clases posibles."
   ]
  },
  {
   "cell_type": "code",
   "execution_count": 17,
   "id": "832080d4",
   "metadata": {},
   "outputs": [
    {
     "name": "stdout",
     "output_type": "stream",
     "text": [
      "----------------------------------------------------------------\n",
      "        Layer (type)               Output Shape         Param #\n",
      "================================================================\n",
      "           Flatten-1                  [-1, 784]               0\n",
      "            Linear-2                  [-1, 512]         401,920\n",
      "              ReLU-3                  [-1, 512]               0\n",
      "            Linear-4                  [-1, 512]         262,656\n",
      "              ReLU-5                  [-1, 512]               0\n",
      "            Linear-6                   [-1, 10]           5,130\n",
      "           Softmax-7                   [-1, 10]               0\n",
      "================================================================\n",
      "Total params: 669,706\n",
      "Trainable params: 669,706\n",
      "Non-trainable params: 0\n",
      "----------------------------------------------------------------\n",
      "Input size (MB): 0.00\n",
      "Forward/backward pass size (MB): 0.02\n",
      "Params size (MB): 2.55\n",
      "Estimated Total Size (MB): 2.58\n",
      "----------------------------------------------------------------\n",
      "torch.Size([4, 10])\n"
     ]
    }
   ],
   "source": [
    "#Definamos ahora nuestra red.\n",
    "import torch.nn as nn\n",
    "from torchsummary import summary\n",
    "#Primero aplicamos flatten (tambien se puede hacer dentro de la red con un nn.Flatten() como vemos aqui)\n",
    "# x = torch.flatten(images, start_dim=1)\n",
    "\n",
    "mlp = nn.Sequential(\n",
    "    nn.Flatten(), # Aplana las imágenes de 28x28 a un vector de 784 elementos (Entrada)\n",
    "\n",
    "    nn.Linear(784, 512), # Una capa oculta lineal con 784 entradas y 512 salidas\n",
    "    nn.ReLU(), # Una función de activación ReLU\n",
    "\n",
    "    nn.Linear(512, 512), # Una capa oculta lineal con 512 entradas y 512 salidas\n",
    "    nn.ReLU(), # Una función de activación ReLU\n",
    "\n",
    "    nn.Linear(512, 10), # Una capa de salida lineal con 512 entradas y 10 salidas\n",
    "    nn.Softmax(dim=1) # Una función de activación softmax para obtener probabilidades\n",
    ").to(device) #Usamos el dispositivo que tenemos disponible (CUDA)\n",
    "\n",
    "summary(mlp, input_size=(1, 28, 28))\n",
    "\n",
    "images = images.to(device)\n",
    "\n",
    "# Forward sobre un batch de ejemplo\n",
    "outputs = mlp(images)\n",
    "\n",
    "print(outputs.shape)\n",
    "assert outputs.shape == (4, 10)\n",
    "assert torch.allclose(outputs.sum(dim=1), torch.ones(4, device=outputs.device), atol=1e-6)\n",
    "\n"
   ]
  },
  {
   "cell_type": "markdown",
   "id": "73832d33",
   "metadata": {},
   "source": [
    "Como vemos en nuestra red, tenemos un total de 669.706 parametros.\n",
    "\n",
    "Esto es demasiado para una red tan pequeña, el numero iria aumentando si añadimos mas nodos capas o si usamos imagenes más grandes.\n",
    "\n",
    "Este es uno de los mayores problemas de las MLPs tradicionales.\n",
    "\n",
    "No entrenaremos el modelo con MLPs.\n",
    "\n",
    "En la siguiente sección veremos CNNs directamente para esta funcion."
   ]
  }
 ],
 "metadata": {
  "kernelspec": {
   "display_name": "dlvs",
   "language": "python",
   "name": "python3"
  },
  "language_info": {
   "codemirror_mode": {
    "name": "ipython",
    "version": 3
   },
   "file_extension": ".py",
   "mimetype": "text/x-python",
   "name": "python",
   "nbconvert_exporter": "python",
   "pygments_lexer": "ipython3",
   "version": "3.12.3"
  }
 },
 "nbformat": 4,
 "nbformat_minor": 5
}
