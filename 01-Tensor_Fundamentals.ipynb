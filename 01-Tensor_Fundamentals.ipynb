{
 "cells": [
  {
   "cell_type": "markdown",
   "id": "5aa6fb33",
   "metadata": {},
   "source": [
    "# Tensores"
   ]
  },
  {
   "cell_type": "markdown",
   "id": "9849a2b2",
   "metadata": {},
   "source": [
    "Un tensor es como un array de Numpy, pero con soporte para GPU y gradientes.+\n",
    "Los tensores son la unidad mínima de datos en deep learning.\n",
    "Todo modelo se reduce a operaciones tensoriales (suma, multiplicación, activación).\n",
    "Forward pass = aplicar una serie de transformaciones determinísticas sobre tensores.\n",
    "\n",
    "requires_grad=True activa el seguimiento para el backprop posterior."
   ]
  },
  {
   "cell_type": "code",
   "execution_count": 4,
   "id": "de78955a",
   "metadata": {},
   "outputs": [
    {
     "name": "stdout",
     "output_type": "stream",
     "text": [
      "Usando: cuda\n",
      "|===========================================================================|\n",
      "|                  PyTorch CUDA memory summary, device ID 0                 |\n",
      "|---------------------------------------------------------------------------|\n",
      "|            CUDA OOMs: 0            |        cudaMalloc retries: 0         |\n",
      "|===========================================================================|\n",
      "|        Metric         | Cur Usage  | Peak Usage | Tot Alloc  | Tot Freed  |\n",
      "|---------------------------------------------------------------------------|\n",
      "| Allocated memory      |      0 B   |      0 B   |      0 B   |      0 B   |\n",
      "|---------------------------------------------------------------------------|\n",
      "| Active memory         |      0 B   |      0 B   |      0 B   |      0 B   |\n",
      "|---------------------------------------------------------------------------|\n",
      "| Requested memory      |      0 B   |      0 B   |      0 B   |      0 B   |\n",
      "|---------------------------------------------------------------------------|\n",
      "| GPU reserved memory   |      0 B   |      0 B   |      0 B   |      0 B   |\n",
      "|---------------------------------------------------------------------------|\n",
      "| Non-releasable memory |      0 B   |      0 B   |      0 B   |      0 B   |\n",
      "|---------------------------------------------------------------------------|\n",
      "| Allocations           |       0    |       0    |       0    |       0    |\n",
      "|---------------------------------------------------------------------------|\n",
      "| Active allocs         |       0    |       0    |       0    |       0    |\n",
      "|---------------------------------------------------------------------------|\n",
      "| GPU reserved segments |       0    |       0    |       0    |       0    |\n",
      "|---------------------------------------------------------------------------|\n",
      "| Non-releasable allocs |       0    |       0    |       0    |       0    |\n",
      "|---------------------------------------------------------------------------|\n",
      "| Oversize allocations  |       0    |       0    |       0    |       0    |\n",
      "|---------------------------------------------------------------------------|\n",
      "| Oversize GPU segments |       0    |       0    |       0    |       0    |\n",
      "|===========================================================================|\n",
      "\n"
     ]
    }
   ],
   "source": [
    "#SETUP\n",
    "import torch\n",
    "\n",
    "#Seed para reproducibilidad, los pesos y biases son aleatorios\n",
    "#pero queremos que sean los mismos en cada run\n",
    "torch.manual_seed(42)\n",
    "\n",
    "device = torch.device(\"cuda\" if torch.cuda.is_available() else \"cpu\")\n",
    "\n",
    "print(\"Usando:\", device)\n",
    "torch.cuda.get_device_name(0)\n",
    "print(torch.cuda.memory_summary(device=None, abbreviated=True))\n",
    "\n"
   ]
  },
  {
   "cell_type": "code",
   "execution_count": null,
   "id": "b55fda8a",
   "metadata": {},
   "outputs": [
    {
     "name": "stdout",
     "output_type": "stream",
     "text": [
      "=== Datos de entrada (x) ===\n",
      "tensor([[ 90.,   3.],\n",
      "        [120.,   4.],\n",
      "        [ 60.,   2.]], device='cuda:0')\n",
      "\n",
      "=== Pesos (w) ===\n",
      "tensor([[0.8000],\n",
      "        [0.3000]], device='cuda:0')\n",
      "\n",
      "=== Bias (b) ===\n",
      "tensor([10.], device='cuda:0')\n",
      "\n",
      "=== Salida (y = x @ w + b) ===\n",
      "tensor([[ 82.9000],\n",
      "        [107.2000],\n",
      "        [ 58.6000]], device='cuda:0')\n"
     ]
    }
   ],
   "source": [
    "# Declaramos tensores de entrada, pesos y bias en GPU.\n",
    "# Esto representa el núcleo matemático de una sola neurona (perceptrón lineal).\n",
    "\n",
    "# x tiene forma (3, 2):\n",
    "#   - 3 filas → 3 casas (3 muestras)\n",
    "#   - 2 columnas → 2 características por casa (tamaño, nº de habitaciones)\n",
    "# Estos datos vendrian de un dataset de casas.\n",
    "x = torch.tensor([\n",
    "    [90.0, 3.0],   # Casa 1\n",
    "    [120.0, 4.0],  # Casa 2\n",
    "    [60.0, 2.0]    # Casa 3\n",
    "], device=\"cuda\")\n",
    "\n",
    "# w tiene forma (2, 1):\n",
    "#   - 2 filas → un peso por cada característica de entrada\n",
    "#   - 1 columna → una neurona (una salida)\n",
    "# Supongamos que el tamaño influye más que el número de habitaciones.\n",
    "# Estos pesos serian random, pero los fijamos para el ejemplo.\n",
    "w = torch.tensor([\n",
    "    [0.8],  # peso asociado al tamaño\n",
    "    [0.3]   # peso asociado a las habitaciones\n",
    "], device=\"cuda\")\n",
    "\n",
    "# b tiene forma (1,):\n",
    "#   - un sesgo que ajusta la salida de todas las muestras.\n",
    "b = torch.tensor([10.0], device=\"cuda\")\n",
    "\n",
    "# operación lineal: y = x @ w + b\n",
    "#   - @ es el producto matricial\n",
    "#   - El bias se suma a cada fila del resultado\n",
    "y = x @ w + b\n",
    "\n",
    "print(\"=== Datos de entrada (x) ===\")\n",
    "print(x)\n",
    "print(\"\\n=== Pesos (w) ===\")\n",
    "print(w)\n",
    "print(\"\\n=== Bias (b) ===\")\n",
    "print(b)\n",
    "print(\"\\n=== Salida (y = x @ w + b) ===\")\n",
    "print(y)"
   ]
  }
 ],
 "metadata": {
  "kernelspec": {
   "display_name": "dlvs",
   "language": "python",
   "name": "python3"
  },
  "language_info": {
   "codemirror_mode": {
    "name": "ipython",
    "version": 3
   },
   "file_extension": ".py",
   "mimetype": "text/x-python",
   "name": "python",
   "nbconvert_exporter": "python",
   "pygments_lexer": "ipython3",
   "version": "3.12.3"
  }
 },
 "nbformat": 4,
 "nbformat_minor": 5
}
