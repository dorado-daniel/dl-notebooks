{
 "cells": [
  {
   "cell_type": "markdown",
   "id": "bb4b0283",
   "metadata": {},
   "source": [
    "# Error Functions\n",
    "\n",
    "Una función de error mide la discrepancia entre la salida de la red y la verdad esperada.\n",
    "Debe ser no negativa +, porque solo así refleja “qué tan mal” lo está haciendo el modelo.\n",
    "\n",
    "### ¿Por qué promediar errores con signo (+10 y −10) puede dar 0 y ser engañoso?\n",
    "\n",
    "\n",
    "Porque la disviacion entre los dos se anula +10 - 10 es cero, por lo tanto el error seria 0, y eso querria decir que la red es perfecta, pero no es real, porque tienes una funcion devolviendote un error negativo y otra que se va en lo positivo, ambas, muy lejos de cero."
   ]
  },
  {
   "cell_type": "code",
   "execution_count": 1,
   "id": "d19256dc",
   "metadata": {},
   "outputs": [
    {
     "name": "stdout",
     "output_type": "stream",
     "text": [
      "Usando dispositivo: cuda\n"
     ]
    }
   ],
   "source": [
    "import torch\n",
    "import torch.nn as nn\n",
    "\n",
    "torch.manual_seed(42)\n",
    "device = torch.device(\"cuda\" if torch.cuda.is_available() else \"cpu\")\n",
    "\n",
    "print(f\"Usando dispositivo: {device}\")\n"
   ]
  },
  {
   "cell_type": "code",
   "execution_count": null,
   "id": "edac1710",
   "metadata": {},
   "outputs": [
    {
     "name": "stdout",
     "output_type": "stream",
     "text": [
      "Error con signo: 0.0\n",
      "Error absoluto: 10.0\n"
     ]
    }
   ],
   "source": [
    "#Ejemplo de error anulandose.\n",
    "\n",
    "#Debemos distinguir entre dos tipos de error promedio:\n",
    "\n",
    "#signed: mide desviación promedio con dirección → puede dar 0 aunque haya error.\n",
    "\n",
    "#abs: mide desviación promedio sin dirección → siempre ≥ 0, representa magnitud real.\n",
    "\n",
    "#Es importante usar error absoluto para evaluar desempeño real del modelo.\n",
    "\n",
    "import torch\n",
    "\n",
    "y_true = torch.tensor([10.0, 10.0])\n",
    "y_pred = torch.tensor([20.0, 0.0])\n",
    "\n",
    "# Error ingenuo (puede anularse)\n",
    "error_signed = (y_pred - y_true).mean()\n",
    "\n",
    "# Error absoluto (no negativo)\n",
    "error_abs = (y_pred - y_true).abs().mean()\n",
    "\n",
    "print(\"Error con signo:\", error_signed.item())\n",
    "print(\"Error absoluto:\", error_abs.item())\n"
   ]
  }
 ],
 "metadata": {
  "kernelspec": {
   "display_name": "dlvs",
   "language": "python",
   "name": "python3"
  },
  "language_info": {
   "codemirror_mode": {
    "name": "ipython",
    "version": 3
   },
   "file_extension": ".py",
   "mimetype": "text/x-python",
   "name": "python",
   "nbconvert_exporter": "python",
   "pygments_lexer": "ipython3",
   "version": "3.12.3"
  }
 },
 "nbformat": 4,
 "nbformat_minor": 5
}
