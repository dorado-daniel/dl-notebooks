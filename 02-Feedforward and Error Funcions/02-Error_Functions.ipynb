{
 "cells": [
  {
   "cell_type": "markdown",
   "id": "bb4b0283",
   "metadata": {},
   "source": [
    "# Error Functions\n",
    "\n",
    "Una función de error mide la discrepancia entre la salida de la red y la verdad esperada.\n",
    "Debe ser no negativa +, porque solo así refleja “qué tan mal” lo está haciendo el modelo.\n",
    "\n",
    "### ¿Por qué promediar errores con signo (+10 y −10) puede dar 0 y ser engañoso?\n",
    "\n",
    "\n",
    "Porque la disviacion entre los dos se anula +10 - 10 es cero, por lo tanto el error seria 0, y eso querria decir que la red es perfecta, pero no es real, porque tienes una funcion devolviendote un error negativo y otra que se va en lo positivo, ambas, muy lejos de cero."
   ]
  },
  {
   "cell_type": "code",
   "execution_count": 1,
   "id": "d19256dc",
   "metadata": {},
   "outputs": [
    {
     "name": "stdout",
     "output_type": "stream",
     "text": [
      "Usando dispositivo: cuda\n"
     ]
    }
   ],
   "source": [
    "import torch\n",
    "import torch.nn as nn\n",
    "\n",
    "torch.manual_seed(42)\n",
    "device = torch.device(\"cuda\" if torch.cuda.is_available() else \"cpu\")\n",
    "\n",
    "print(f\"Usando dispositivo: {device}\")\n"
   ]
  },
  {
   "cell_type": "code",
   "execution_count": null,
   "id": "edac1710",
   "metadata": {},
   "outputs": [
    {
     "name": "stdout",
     "output_type": "stream",
     "text": [
      "Error con signo: 0.0\n",
      "Error absoluto: 10.0\n"
     ]
    }
   ],
   "source": [
    "#Ejemplo de error anulandose.\n",
    "\n",
    "#Debemos distinguir entre dos tipos de error promedio:\n",
    "\n",
    "#signed: mide desviación promedio con dirección → puede dar 0 aunque haya error.\n",
    "\n",
    "#abs: mide desviación promedio sin dirección → siempre ≥ 0, representa magnitud real.\n",
    "\n",
    "#Es importante usar error absoluto para evaluar desempeño real del modelo.\n",
    "\n",
    "import torch\n",
    "\n",
    "y_true = torch.tensor([10.0, 10.0])\n",
    "y_pred = torch.tensor([20.0, 0.0])\n",
    "\n",
    "# Error ingenuo (puede anularse)\n",
    "error_signed = (y_pred - y_true).mean()\n",
    "\n",
    "# Error absoluto (no negativo)\n",
    "error_abs = (y_pred - y_true).abs().mean()\n",
    "\n",
    "print(\"Error con signo:\", error_signed.item())\n",
    "print(\"Error absoluto:\", error_abs.item())\n"
   ]
  },
  {
   "cell_type": "markdown",
   "id": "413df684",
   "metadata": {},
   "source": [
    "### MSE"
   ]
  },
  {
   "cell_type": "code",
   "execution_count": 8,
   "id": "dc045fb7",
   "metadata": {},
   "outputs": [
    {
     "name": "stdout",
     "output_type": "stream",
     "text": [
      "Epoch  0 | MSE: 41.3243\n",
      "Epoch  5 | MSE: 0.1814\n",
      "Epoch 10 | MSE: 0.1813\n",
      "Epoch 15 | MSE: 0.1812\n",
      "Epoch 20 | MSE: 0.1811\n",
      "Epoch 25 | MSE: 0.1810\n"
     ]
    }
   ],
   "source": [
    "import torch\n",
    "import torch.nn as nn\n",
    "\n",
    "torch.manual_seed(0)\n",
    "\n",
    "# Datos sintéticos: y = 2x + 1 + ruido\n",
    "x = torch.linspace(0, 5, 50).unsqueeze(1)\n",
    "y_true = 2 * x + 1 + 0.4 * torch.randn_like(x)\n",
    "\n",
    "# Modelo lineal simple\n",
    "model = nn.Linear(1, 1)\n",
    "loss_fn = nn.MSELoss()\n",
    "optimizer = torch.optim.SGD(model.parameters(), lr=0.05)\n",
    "\n",
    "for epoch in range(30):\n",
    "    y_pred = model(x)\n",
    "    loss = loss_fn(y_pred, y_true)\n",
    "    optimizer.zero_grad()\n",
    "    loss.backward()\n",
    "    optimizer.step()\n",
    "\n",
    "    if epoch % 5 == 0:\n",
    "        print(f\"Epoch {epoch:2d} | MSE: {loss.item():.4f}\")\n"
   ]
  }
 ],
 "metadata": {
  "kernelspec": {
   "display_name": "dlvs",
   "language": "python",
   "name": "python3"
  },
  "language_info": {
   "codemirror_mode": {
    "name": "ipython",
    "version": 3
   },
   "file_extension": ".py",
   "mimetype": "text/x-python",
   "name": "python",
   "nbconvert_exporter": "python",
   "pygments_lexer": "ipython3",
   "version": "3.12.3"
  }
 },
 "nbformat": 4,
 "nbformat_minor": 5
}
