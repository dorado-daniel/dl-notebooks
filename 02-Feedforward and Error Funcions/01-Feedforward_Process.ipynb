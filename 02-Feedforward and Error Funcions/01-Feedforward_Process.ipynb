{
 "cells": [
  {
   "cell_type": "markdown",
   "id": "1f42cc13",
   "metadata": {},
   "source": [
    "# FeedForward\n",
    "\n",
    "El proceso de Feedforward (FF) permite ir pasando outputs de una capa de neuronas a la siguiente\n",
    "\n",
    " “forward pass” es aplicar:\n",
    "\n",
    "  (1) suma ponderada y \n",
    "  \n",
    "  (2) activación desde entrada → capas ocultas → salida."
   ]
  },
  {
   "cell_type": "code",
   "execution_count": 1,
   "id": "3ea82fb4",
   "metadata": {},
   "outputs": [
    {
     "data": {
      "text/plain": [
       "device(type='cuda')"
      ]
     },
     "execution_count": 1,
     "metadata": {},
     "output_type": "execute_result"
    }
   ],
   "source": [
    "# Preparación\n",
    "import torch\n",
    "torch.manual_seed(0)\n",
    "\n",
    "device = torch.device(\"cuda\" if torch.cuda.is_available() else \"cpu\")\n",
    "device\n"
   ]
  },
  {
   "cell_type": "markdown",
   "id": "58e8f312",
   "metadata": {},
   "source": [
    "Vamos a declarar una red neuronal con dos entradas (dos características por muestra), una capa oculta formada por dos neuronas que combinan esas entradas con sus propios pesos y bias, y una salida que, tras aplicar la activación, generará dos valores por muestra listos para pasar a la siguiente capa o para producir la salida final."
   ]
  },
  {
   "cell_type": "code",
   "execution_count": 6,
   "id": "d1e9ebdc",
   "metadata": {},
   "outputs": [],
   "source": [
    "import torch\n",
    "import torch.nn as nn\n",
    "\n",
    "device = \"cuda\" if torch.cuda.is_available() else \"cpu\"\n",
    "\n",
    "# === 1. Datos de entrada (features) ===\n",
    "# Cada fila de X es una MUESTRA (un ejemplo del conjunto de datos)\n",
    "# Cada columna de X es una FEATURE (una característica numérica por ejemplo)\n",
    "# En este caso: 3 muestras, 2 features por muestra.\n",
    "X = torch.tensor([\n",
    "    [2.0, 1.0],   # muestra 1: x1=2.0, x2=1.0\n",
    "    [5.0, 1.0],   # muestra 2: x1=5.0, x2=1.0\n",
    "    [1.0, 3.0]    # muestra 3: x1=1.0, x2=3.0\n",
    "], device=device)\n",
    "\n",
    "# === 2. Tensores de pesos y bias (definidos manualmente) ===\n",
    "# Cada fila de W1 representa una neurona (out_features)\n",
    "# Cada columna de W1 representa una conexión desde una feature de entrada\n",
    "W1 = torch.tensor([\n",
    "    [0.5,  1.0],     # Neurona 1: pesos para feature1 y feature2\n",
    "    [-0.25, 0.75]    # Neurona 2: pesos para feature1 y feature2\n",
    "], device=device)\n",
    "\n",
    "b1 = torch.tensor([\n",
    "    0.0,   # Bias de la neurona 1\n",
    "    -0.5   # Bias de la neurona 2\n",
    "], device=device)\n",
    "\n",
    "\n"
   ]
  },
  {
   "cell_type": "markdown",
   "id": "100bf897",
   "metadata": {},
   "source": [
    "\n",
    "Como vemos, la capa de entrada no se declara como tal, la primera layer1 sera la capa oculta. "
   ]
  },
  {
   "cell_type": "code",
   "execution_count": 12,
   "id": "6cad1b99",
   "metadata": {},
   "outputs": [
    {
     "name": "stdout",
     "output_type": "stream",
     "text": [
      "Pesos (W1):\n",
      " Parameter containing:\n",
      "tensor([[ 0.5000,  1.0000],\n",
      "        [-0.2500,  0.7500]], device='cuda:0', requires_grad=True)\n",
      "\n",
      "Bias (b1):\n",
      " Parameter containing:\n",
      "tensor([ 0.0000, -0.5000], device='cuda:0', requires_grad=True)\n",
      "\n",
      "Salida lineal pre activacion (z1):\n",
      " tensor([[ 2.0000, -0.2500],\n",
      "        [ 3.5000, -1.0000],\n",
      "        [ 3.5000,  1.5000]], device='cuda:0', grad_fn=<AddmmBackward0>)\n"
     ]
    }
   ],
   "source": [
    "# === 3. Crear la capa lineal (estructura de la capa de Neuronas) ===\n",
    "# - in_features = número de columnas de X (features)\n",
    "# - out_features = número de neuronas en la capa\n",
    "layer1 = nn.Linear(in_features=2, out_features=2, bias=True, device=device)\n",
    "\n",
    "# === 4. Copiar manualmente los pesos y bias definidos arriba ===\n",
    "with torch.no_grad():\n",
    "    layer1.weight.copy_(W1)\n",
    "    layer1.bias.copy_(b1)\n",
    "\n",
    "# === 5. Comprobación de la estructura de la capa ===\n",
    "print(\"Pesos (W1):\\n\", layer1.weight)\n",
    "print(\"\\nBias (b1):\\n\", layer1.bias)\n",
    "\n",
    "# === 6. Feedforward: aplicar la capa a las muestras ===\n",
    "z1 = layer1(X)  # PyTorch realiza z = X @ W1.T + b1\n",
    "print(\"\\nSalida lineal pre activacion (z1):\\n\", z1)\n",
    "\n"
   ]
  },
  {
   "cell_type": "code",
   "execution_count": 14,
   "id": "038b9b4c",
   "metadata": {},
   "outputs": [
    {
     "name": "stdout",
     "output_type": "stream",
     "text": [
      "a1 (post-activación):\n",
      " tensor([[2.0000, 0.0000],\n",
      "        [3.5000, 0.0000],\n",
      "        [3.5000, 1.5000]], device='cuda:0', grad_fn=<ReluBackward0>)\n",
      "Formas: z1 (3, 2) → a1 (3, 2)\n"
     ]
    }
   ],
   "source": [
    "# === 7. Feedforward: Aplicar función de activación (ReLU) ===\n",
    "a1 = torch.relu(z1)\n",
    "print(\"a1 (post-activación):\\n\", a1)\n",
    "print(\"Formas: z1\", tuple(z1.shape), \"→ a1\", tuple(a1.shape))\n",
    "\n",
    "\n"
   ]
  },
  {
   "cell_type": "code",
   "execution_count": 16,
   "id": "38c2bf9f",
   "metadata": {},
   "outputs": [
    {
     "name": "stdout",
     "output_type": "stream",
     "text": [
      "\n",
      "Comparación z1 vs a1: vemos que si z1 < 0 entonces a1 = 0\n",
      "\n",
      "Muestra 1:\n",
      "  Neurona 1: z1 =   2.00  →  a1 =   2.00\n",
      "  Neurona 2: z1 =  -0.25  →  a1 =   0.00\n",
      "\n",
      "Muestra 2:\n",
      "  Neurona 1: z1 =   3.50  →  a1 =   3.50\n",
      "  Neurona 2: z1 =  -1.00  →  a1 =   0.00\n",
      "\n",
      "Muestra 3:\n",
      "  Neurona 1: z1 =   3.50  →  a1 =   3.50\n",
      "  Neurona 2: z1 =   1.50  →  a1 =   1.50\n"
     ]
    }
   ],
   "source": [
    "#==============================================================\n",
    "# === 8. Comprobaciones (no necesarias para el proceso) ===\n",
    "assert a1.shape == z1.shape\n",
    "assert torch.all(a1 >= 0), \"ReLU anula negativos\"\n",
    "\n",
    "\n",
    "# === Comparación visual: valores antes y después de ReLU ===\n",
    "\n",
    "print(\"\\nComparación z1 vs a1: vemos que si z1 < 0 entonces a1 = 0\")\n",
    "# Creamos una pequeña tabla con z1 y a1 lado a lado\n",
    "for i in range(z1.shape[0]):           # por cada muestra\n",
    "    print(f\"\\nMuestra {i+1}:\")\n",
    "    for j in range(z1.shape[1]):       # por cada neurona\n",
    "        print(f\"  Neurona {j+1}: z1 = {z1[i,j]:>6.2f}  →  a1 = {a1[i,j]:>6.2f}\")\n",
    "\n"
   ]
  },
  {
   "cell_type": "markdown",
   "id": "a3e95642",
   "metadata": {},
   "source": [
    "Vamos a representar gráficamente la función Leaky ReLU y los puntos para ver como se igualan a cero."
   ]
  },
  {
   "cell_type": "code",
   "execution_count": 43,
   "id": "222b5166",
   "metadata": {},
   "outputs": [
    {
     "data": {
      "image/png": "[encoded data removed]",
      "text/plain": [
       "<Figure size 600x600 with 1 Axes>"
      ]
     },
     "metadata": {},
     "output_type": "display_data"
    }
   ],
   "source": [
    "import matplotlib.pyplot as plt\n",
    "\n",
    "# Convertimos a CPU para asegurar compatibilidad con matplotlib\n",
    "z1_cpu = z1.detach().cpu()\n",
    "a1_cpu = a1.detach().cpu()\n",
    "\n",
    "plt.figure(figsize=(6, 6))\n",
    "plt.axhline(0, color='gray', linewidth=0.8)\n",
    "plt.axvline(0, color='gray', linewidth=0.8)\n",
    "\n",
    "# Dibujamos puntos: z1 → a1\n",
    "plt.scatter(z1_cpu, a1_cpu, color='royalblue', s=60)\n",
    "\n",
    "# Línea identidad para mostrar dónde ReLU deja pasar los positivos\n",
    "plt.plot([-2, 5], [-2, 5], color='orange', linestyle='--', label='y = x')\n",
    "\n",
    "plt.title(\"Transformación ReLU (z1 → a1)\")\n",
    "plt.xlabel(\"Valor antes de ReLU (z1)\")\n",
    "plt.ylabel(\"Valor después de ReLU (a1)\")\n",
    "plt.legend()\n",
    "plt.grid(True)\n",
    "plt.show()"
   ]
  },
  {
   "cell_type": "code",
   "execution_count": 47,
   "id": "d27586da",
   "metadata": {},
   "outputs": [
    {
     "ename": "ImportError",
     "evalue": "cannot import name 'draw' from 'mlp_viz' (/root/DL/DL_VS/dl-notebooks/02-Feedforward and Error Funcions/mlp_viz.py)",
     "output_type": "error",
     "traceback": [
      "\u001b[31m---------------------------------------------------------------------------\u001b[39m",
      "\u001b[31mImportError\u001b[39m                               Traceback (most recent call last)",
      "\u001b[36mCell\u001b[39m\u001b[36m \u001b[39m\u001b[32mIn[47]\u001b[39m\u001b[32m, line 1\u001b[39m\n\u001b[32m----> \u001b[39m\u001b[32m1\u001b[39m \u001b[38;5;28;01mfrom\u001b[39;00m\u001b[38;5;250m \u001b[39m\u001b[34;01mmlp_viz\u001b[39;00m\u001b[38;5;250m \u001b[39m\u001b[38;5;28;01mimport\u001b[39;00m draw, draw_dense, draw_layer\n\u001b[32m      2\u001b[39m draw([layer1, \u001b[33m\"\u001b[39m\u001b[33mReLU\u001b[39m\u001b[33m\"\u001b[39m])   \n",
      "\u001b[31mImportError\u001b[39m: cannot import name 'draw' from 'mlp_viz' (/root/DL/DL_VS/dl-notebooks/02-Feedforward and Error Funcions/mlp_viz.py)"
     ]
    }
   ],
   "source": [
    "from mlp_viz import draw, draw_dense, draw_layer\n",
    "draw([layer1, \"ReLU\"])   "
   ]
  }
 ],
 "metadata": {
  "kernelspec": {
   "display_name": "Python 3",
   "language": "python",
   "name": "python3"
  },
  "language_info": {
   "codemirror_mode": {
    "name": "ipython",
    "version": 3
   },
   "file_extension": ".py",
   "mimetype": "text/x-python",
   "name": "python",
   "nbconvert_exporter": "python",
   "pygments_lexer": "ipython3",
   "version": "3.12.3"
  }
 },
 "nbformat": 4,
 "nbformat_minor": 5
}
