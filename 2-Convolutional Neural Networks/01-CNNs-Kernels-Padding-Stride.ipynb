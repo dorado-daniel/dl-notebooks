{
 "cells": [
  {
   "cell_type": "markdown",
   "id": "963f596c",
   "metadata": {},
   "source": [
    "# CNNs Overview\n",
    "\n"
   ]
  },
  {
   "cell_type": "markdown",
   "id": "e2faa6a4",
   "metadata": {},
   "source": [
    "Vamos a usar el DS MNIST.\n",
    "\n",
    "Como primer paso, convertiremos los pixeles de cada imagen a un tensor estabilizado entre 0 y 1 para poder usarse."
   ]
  },
  {
   "cell_type": "code",
   "execution_count": 11,
   "id": "646aad32",
   "metadata": {},
   "outputs": [
    {
     "name": "stdout",
     "output_type": "stream",
     "text": [
      "cuda\n",
      "images.shape: torch.Size([4, 1, 28, 28])\n",
      "labels: [2, 7, 7, 1]\n"
     ]
    }
   ],
   "source": [
    "# Arranque: imports, dataset y primer batch (MNIST)\n",
    "import torch, torch.nn as nn, torch.nn.functional as F\n",
    "from torchvision import datasets, transforms\n",
    "from torch.utils.data import DataLoader\n",
    "import matplotlib.pyplot as plt\n",
    "\n",
    "\n",
    "torch.manual_seed(3)\n",
    "\n",
    "device = torch.device(\"cuda\" if torch.cuda.is_available() else \"cpu\")\n",
    "print(device)\n",
    "\n",
    "# Aqui convertimos las imagenes a tensores\n",
    "# Es decir, el valor de los pixeles pasa a estar entre 0 y 1\n",
    "# y el shape de las imagenes pasa a ser (C,H,W) (Canales, Alto, Ancho)\n",
    "\n",
    "transform = transforms.ToTensor()  # [0,1], shape (C,H,W)\n",
    "\n",
    "train = datasets.MNIST(root=\"./data\", train=True, download=True, transform=transform)\n",
    "loader = DataLoader(train, batch_size=4, shuffle=True)\n",
    "\n",
    "# Cogemos un batch de 4 imagenes\n",
    "images, labels = next(iter(loader))\n",
    "\n",
    "# Imprimimos el shape de las imagenes y las etiquetas\n",
    "print(\"images.shape:\", images.shape)   # esperado: ([4, 1, 28, 28])\n",
    "\n",
    "# Imprimimos las etiquetas\n",
    "print(\"labels:\", labels.tolist())\n",
    "\n",
    "# Comprobamos que el shape de las imagenes es el esperado\n",
    "assert images.ndim == 4 and images.shape[1] == 1 and images.shape[2] == 28 and images.shape[3] == 28\n"
   ]
  },
  {
   "cell_type": "markdown",
   "id": "92890036",
   "metadata": {},
   "source": [
    "Vamos a dar un vistazo para entender mejor"
   ]
  },
  {
   "cell_type": "code",
   "execution_count": 12,
   "id": "61a56b06",
   "metadata": {},
   "outputs": [
    {
     "name": "stdout",
     "output_type": "stream",
     "text": [
      "Canales: 1, Alto: 28, Ancho: 28\n",
      "Rango de píxeles: 0.000 a 1.000\n"
     ]
    }
   ],
   "source": [
    "images_cuda = images.to(device)\n",
    "one_image = images_cuda[0]\n",
    "\n",
    "C, H, W = one_image.shape\n",
    "\n",
    "#Podemos observar como solo hay un unico canal, que es el negro y blanco.\n",
    "#Si fuera algo a color, habria 3 canales (R, G, B)\n",
    "#Si ademas tuviera transparencia, habria 4 canales (R, G, B, A)\n",
    "\n",
    "\n",
    "print(f\"Canales: {C}, Alto: {H}, Ancho: {W}\")\n",
    "\n",
    "print(f\"Rango de píxeles: {one_image.min():.3f} a {one_image.max():.3f}\")\n",
    "\n"
   ]
  },
  {
   "cell_type": "markdown",
   "id": "464c59f0",
   "metadata": {},
   "source": [
    "### Capa de Convolución\n",
    "\n",
    "#### Padding, Stride y Kernel"
   ]
  },
  {
   "cell_type": "markdown",
   "id": "5e13a4f3",
   "metadata": {},
   "source": [
    "EL padding permite que los kernel tengan en cuenta más veces los pixeles de los bordes, al añadir un padding de 0s alrededor, el kernel tiene espacio para pasar mas veces por los pixeles de los bordes, un padding de 1 no reduce el tamaño de la imagen por ese motivo.\n",
    "\n",
    "VALID PADDING = 0 // No hay marco, la imagen se reduce.\n",
    "\n",
    "SAME PADDING = 1 // Hay marco, la imagen no se reduec."
   ]
  },
  {
   "cell_type": "code",
   "execution_count": 32,
   "id": "06cc9c91",
   "metadata": {},
   "outputs": [
    {
     "name": "stdout",
     "output_type": "stream",
     "text": [
      "Después de Conv+ReLU: torch.Size([4, 8, 28, 28])\n",
      "Después de MaxPool: torch.Size([4, 8, 14, 14])\n",
      "Después de AvgPool: torch.Size([4, 8, 14, 14])\n"
     ]
    }
   ],
   "source": [
    "#Declaramos la capa de convolución\n",
    "\n",
    "# in_channels = 1, porque es una imagen en blanco y negro\n",
    "# out_channels = 8, porque queremos 8 features (8 filtros)\n",
    "# kernel_size = 3, porque queremos un kernel de 3x3 px\n",
    "# padding = 1, porque queremos que la imagen siga teniendo el mismo tamaño\n",
    "# stride = 1, porque queremos que el kernel se desplace 1 px por vez\n",
    "\n",
    "conv = nn.Conv2d(in_channels=1, stride=1, out_channels=8, kernel_size=3, padding=\"same\")\n",
    "#padding=\"same\" es lo mismo que padding=1 \n",
    "#padding=\"valid\" es lo mismo que padding=0\n",
    "#Si stride es >1 padding same no esta soportado.\n",
    "conv.to(device)\n",
    "\n",
    "import matplotlib.pyplot as plt\n",
    "\n",
    "#Vamos a declarar dos capas de pooling, aunque en realidad se suele usar una sola.\n",
    "#Lo hacemos para ver las diferencias entre pooling max y pooling avg.\n",
    "\n",
    "#Declaramos un capa de pooling max\n",
    "pool_max = nn.MaxPool2d(\n",
    "    kernel_size=2,   # tamaño de la ventana (por defecto cuadrada: 2x2)\n",
    "    stride=2,        # cuántos píxeles se mueve la ventana en cada paso\n",
    "    padding=0,       # si quieres añadir bordes (normalmente 0)\n",
    "    dilation=1,      # separa píxeles dentro del kernel (raro en pooling)\n",
    "    ceil_mode=False  # si True, redondea hacia arriba el tamaño de salida\n",
    ")\n",
    "#Declaramos un capa de pooling promedio\n",
    "pool_avg = nn.AvgPool2d(\n",
    "    kernel_size=2,\n",
    "    stride=2,\n",
    "    padding=0,\n",
    "    ceil_mode=False\n",
    ")\n",
    "# x seran nuestras imagenes de entrada (batch de 4 imagenes de 1x28x28)\n",
    "x = images_cuda  # (B, 1, 28, 28)\n",
    "\n",
    "\n",
    "x1 = F.relu(conv(x))\n",
    "print(\"Después de Conv+ReLU:\", x1.shape)\n",
    "x2 = pool_max(x1)\n",
    "\n",
    "x3 = pool_avg(x1)\n",
    "print(\"Después de MaxPool:\", x2.shape)\n",
    "print(\"Después de AvgPool:\", x3.shape)\n",
    "assert x2.shape == (4, 8, 14, 14)\n",
    "assert x3.shape == (4, 8, 14, 14)\n",
    "\n",
    "#Es decir, 4 imagenes, 8 features filtros, y 14x14 px tras aplicar el pooling\n"
   ]
  },
  {
   "cell_type": "markdown",
   "id": "06ae7e69",
   "metadata": {},
   "source": [
    "Vamos a visualizar como cada uno de los filtros (out_channels) modifica la imagen y como el pooling reduce las mismas.\n",
    "\n",
    "Si cambiamos el torch.manual_seed(3)  en la primera celda y realizamos otra ejecución veremos que los filtros, cambian, no siempre se aplican los mismos.\n",
    "\n",
    "Esto es debido a que los filtros (8) se inicializan tambien de forma aleatoria."
   ]
  },
  {
   "cell_type": "markdown",
   "id": "3acaa849",
   "metadata": {},
   "source": [
    "Veremos aqui también la diferencia entre pooling max y pooling avg.\n",
    "\n",
    "EL pooling se suele realizar despues de la convolución para reducir el tamaño de parametros y mejorar la eficiencia de computo, hay dos tipos principales clásicos.\n",
    "\n",
    "#### pool_max \n",
    "tiende a resaltar zonas más brillantes: es más agresivo, \"elige lo importante\"\n",
    "\n",
    "#### pool_avg \n",
    "produce una version más suave y difusa: Conserva la media local, pierde contraste pero mantiene noción general"
   ]
  },
  {
   "cell_type": "code",
   "execution_count": 31,
   "id": "8393c952",
   "metadata": {},
   "outputs": [
    {
     "data": {
      "image/png": "[encoded data removed]",
      "text/plain": [
       "<Figure size 1600x800 with 32 Axes>"
      ]
     },
     "metadata": {},
     "output_type": "display_data"
    }
   ],
   "source": [
    "# ---------------------------------------------------\n",
    "# Visualización: imagen original + Conv + MaxPool + AvgPool\n",
    "# ---------------------------------------------------\n",
    "\n",
    "img_idx = 0  # primera imagen del batch\n",
    "\n",
    "img_original = images_cuda[img_idx].detach().cpu()     # (1, 28, 28)\n",
    "acts_before  = x1[img_idx].detach().cpu()              # (8, 28, 28)\n",
    "acts_max     = x2[img_idx].detach().cpu()              # (8, 14, 14)\n",
    "acts_avg     = x3[img_idx].detach().cpu()              # (8, 14, 14)\n",
    "\n",
    "# 4 filas (Original, Conv, MaxPool, AvgPool) × 8 columnas (filtros)\n",
    "fig, axes = plt.subplots(4, 8, figsize=(16, 8))\n",
    "\n",
    "for i in range(8):\n",
    "    # Fila 0: Imagen original\n",
    "    axes[0, i].imshow(img_original[0], cmap='gray')\n",
    "    axes[0, i].axis('off')\n",
    "    if i == 0:\n",
    "        axes[0, i].set_title('Original', fontsize=8)\n",
    "\n",
    "    # Fila 1: salida de Conv+ReLU\n",
    "    axes[1, i].imshow(acts_before[i], cmap='gray')\n",
    "    axes[1, i].axis('off')\n",
    "    axes[1, i].set_title(f'Filtro {i+1}', fontsize=8)\n",
    "\n",
    "    # Fila 2: salida tras MaxPool\n",
    "    axes[2, i].imshow(acts_max[i], cmap='gray')\n",
    "    axes[2, i].axis('off')\n",
    "\n",
    "    # Fila 3: salida tras AvgPool\n",
    "    axes[3, i].imshow(acts_avg[i], cmap='gray')\n",
    "    axes[3, i].axis('off')\n",
    "\n",
    "plt.suptitle(\"Fila 0: Imagen original | Fila 1: Conv+ReLU | Fila 2: MaxPool2d | Fila 3: AvgPool2d\", fontsize=10)\n",
    "plt.tight_layout()\n",
    "plt.show()\n"
   ]
  },
  {
   "cell_type": "markdown",
   "id": "09bdb0a7",
   "metadata": {},
   "source": [
    "Como vemos, el pooling reduce el tamaño de la imagen, pero mantiene la información relevante.\n",
    "\n",
    "Esta ténica esta dejando de usarse tanto porque:\n",
    "\n",
    "- Elimina demasiada información, a veces destruyendo detalles importantes.\n",
    "- Hace difícil entrenar redes profundas, porque el gradiente se propaga peor.\n",
    "- Y su efecto (reducción espacial) se puede conseguir de forma más flexible con otras operaciones.\n"
   ]
  },
  {
   "cell_type": "markdown",
   "id": "4452e8a9",
   "metadata": {},
   "source": [
    "Veremos otras técnicas más adelante, de momento nos quedamos con esta tabla."
   ]
  },
  {
   "cell_type": "markdown",
   "id": "e0426dd8",
   "metadata": {},
   "source": [
    "| Alternativa                      | Qué hace                                                                                | Ejemplo                            |\n",
    "| -------------------------------- | --------------------------------------------------------------------------------------- | ---------------------------------- |\n",
    "| **Stride en la convolución**     | En lugar de un MaxPool(2), se usa `Conv2d(..., stride=2)`; así la reducción se aprende. | ResNet, EfficientNet               |\n",
    "| **Global Average Pooling (GAP)** | Sustituye el *flatten* final: promedia todo el mapa de activación por canal.            | Inception, MobileNet               |\n",
    "| **Adaptive Pooling**             | Ajusta automáticamente el tamaño final, sin perder tanta información.                   | PyTorch `AdaptiveAvgPool2d((1,1))` |\n",
    "| **Attention / Transformers**     | Dejan de usar pooling completamente y aprenden relaciones espaciales explícitas.        | ViT, ConvNext                      |\n"
   ]
  },
  {
   "cell_type": "markdown",
   "id": "e6a5106e",
   "metadata": {},
   "source": [
    "Concepto clave:\n",
    "\n",
    "El pooling clásico fue un gran invento,\n",
    "pero hoy se prefiere que la red aprenda la reducción espacial mediante convoluciones con stride o mecanismos adaptativos."
   ]
  },
  {
   "cell_type": "markdown",
   "id": "9c5266bb",
   "metadata": {},
   "source": [
    "Aquí podemos ver los tipos de Pooling "
   ]
  },
  {
   "cell_type": "markdown",
   "id": "cf36b622",
   "metadata": {},
   "source": [
    "| Tipo de pooling                                             | Parámetros típicos                             | Qué hace                                                                   | Cuándo se usa                                                           | Ventajas                                                | Desventajas                                   |\n",
    "| ----------------------------------------------------------- | ---------------------------------------------- | -------------------------------------------------------------------------- | ----------------------------------------------------------------------- | ------------------------------------------------------- | --------------------------------------------- |\n",
    "| **MaxPool2d**                                               | `kernel_size=2`, `stride=2`, `padding=0`       | Toma el valor máximo de cada bloque.                                       | CNNs clásicas (LeNet, VGG, AlexNet).                                    | Conserva los rasgos más fuertes, robusto a ruido.       | Elimina detalles finos, puede perder textura. |\n",
    "| **AvgPool2d**                                               | `kernel_size=2` o `3`, `stride=2`, `padding=0` | Calcula el promedio local.                                                 | Modelos más suaves o para reducir aliasing.                             | Suaviza el mapa, conserva energía total.                | Diluyen los bordes, menos discriminativo.     |\n",
    "| **AdaptiveAvgPool2d**                                       | `output_size=(1,1)`                            | Promedia todo el mapa hasta un valor por canal (*Global Average Pooling*). | Al final de CNNs modernas (ResNet, MobileNet, Inception).               | Reemplaza *Flatten+FC*, menos parámetros.               | Pierde completamente la información espacial. |\n",
    "| **GlobalMaxPool2d** *(no capa directa, pero se simula)*     | `kernel_size=H,W`                              | Toma el máximo global de cada canal.                                       | Casos donde solo interesa la activación más fuerte (detección binaria). | Compacta al máximo, destaca presencia de un rasgo.      | Extremadamente agresivo: borra contexto.      |\n",
    "| **Conv2d con `stride>1`** *(sustituto moderno del pooling)* | `kernel_size=3`, `stride=2`, `padding=1`       | Aprende la reducción espacial mediante pesos.                              | CNNs modernas (ResNet, EfficientNet, ConvNeXt).                         | Aprendizaje más flexible, menos pérdida de información. | Más parámetros, más coste computacional.      |\n",
    "| **AvgPool + Stride<Kernel** *(suavizado fino)*              | `kernel_size=3`, `stride=1`                    | Promedia con solapamiento (antialiasing).                                  | A veces entre capas densas para reducir ruido.                          | Muy estable, reduce aliasing.                           | No reduce resolución, aumenta coste.          |\n"
   ]
  }
 ],
 "metadata": {
  "kernelspec": {
   "display_name": "dlvs",
   "language": "python",
   "name": "python3"
  },
  "language_info": {
   "codemirror_mode": {
    "name": "ipython",
    "version": 3
   },
   "file_extension": ".py",
   "mimetype": "text/x-python",
   "name": "python",
   "nbconvert_exporter": "python",
   "pygments_lexer": "ipython3",
   "version": "3.12.3"
  }
 },
 "nbformat": 4,
 "nbformat_minor": 5
}
