{
 "cells": [
  {
   "cell_type": "markdown",
   "id": "6582a54e",
   "metadata": {},
   "source": [
    "# Non Convolutional Image Classification \n",
    "\n",
    "Para entender las diferencias y mejoras entre la clasificacion entre MLPs con y sin convolución, vamos a realizar un ejercicio\n",
    "de clasficacion de imagenes con el dataset MNIST sin usar convolucion, solo con lo visto hasta ahora."
   ]
  },
  {
   "cell_type": "code",
   "execution_count": 1,
   "id": "218fc9a6",
   "metadata": {},
   "outputs": [
    {
     "name": "stdout",
     "output_type": "stream",
     "text": [
      "60000\n"
     ]
    }
   ],
   "source": [
    "# Preparamos los datos para el entrenamiento con el dataset MNIST\n",
    "import torch\n",
    "from torchvision import datasets, transforms\n",
    "\n",
    "# Creamos un transformador para convertir las imágenes en tensores\n",
    "transform = transforms.ToTensor()\n",
    "\n",
    "# Cargamos el dataset MNIST en el directorio ./data\n",
    "train_set = datasets.MNIST(root=\"./data\", train=True, download=True, transform=transform)\n",
    "\n",
    "# Creamos un DataLoader para iterar sobre el dataset en lotes de 4 imágenes, con shuffle activado\n",
    "train_loader = torch.utils.data.DataLoader(train_set, batch_size=4, shuffle=True)\n",
    "\n",
    "print(len(train_set))\n",
    "\n",
    "\n"
   ]
  },
  {
   "cell_type": "markdown",
   "id": "8007feeb",
   "metadata": {},
   "source": [
    "Vamos a visualizar las imagenes para hacernos una idea del DS con el que trabajamos,\n",
    "ya que en el dataset las imagenes ya estan convertidas.\n",
    "\n",
    "Notese que en cada ejecución nos devuelve un bathc distinto por tener activado shuffle."
   ]
  },
  {
   "cell_type": "code",
   "execution_count": 2,
   "id": "c54dc0a4",
   "metadata": {},
   "outputs": [
    {
     "name": "stdout",
     "output_type": "stream",
     "text": [
      "torch.Size([4, 1, 28, 28]) tensor([2, 0, 1, 1])\n"
     ]
    },
    {
     "data": {
      "image/png": "[encoded data removed]",
      "text/plain": [
       "<Figure size 800x200 with 4 Axes>"
      ]
     },
     "metadata": {},
     "output_type": "display_data"
    }
   ],
   "source": [
    "import matplotlib.pyplot as plt\n",
    "\n",
    "# Obtenemos un lote de imágenes y etiquetas (4 imágenes y 4 etiquetas)\n",
    "images, labels = next(iter(train_loader))\n",
    "\n",
    "print(images.shape, labels)\n",
    "assert images.shape == (4, 1, 28, 28)\n",
    "\n",
    "\n",
    "# Mostramos las 4 imágenes del batch\n",
    "fig, axes = plt.subplots(1, 4, figsize=(8, 2))\n",
    "for i in range(4):\n",
    "    axes[i].imshow(images[i][0], cmap=\"gray\")\n",
    "    axes[i].set_title(f\"Label: {labels[i].item()}\")\n",
    "    axes[i].axis(\"off\")\n",
    "plt.show()\n"
   ]
  },
  {
   "cell_type": "markdown",
   "id": "a3a53253",
   "metadata": {},
   "source": [
    "Como un MLP clasico sin convolución, esta formado por capas lineales, esta esperando vectores de entrada, por lo que debemos \"aplanar\" la imagen.\n",
    "Esto hace que se pierda la información de que pixeles son vecinos unos de otros, por ello la clasificación de imagenes sin convolución suele ser peor.\n",
    "Con este DS especifico, el trabajo será bueno aún así, debido a que las imagenes estan muy bien preprocesadas, pero en general, es deficiente con otros DS en comparación a la convolución."
   ]
  },
  {
   "cell_type": "code",
   "execution_count": 3,
   "id": "c0d8fef5",
   "metadata": {},
   "outputs": [
    {
     "name": "stdout",
     "output_type": "stream",
     "text": [
      "torch.Size([4, 784])\n"
     ]
    },
    {
     "data": {
      "image/png": "[encoded data removed]",
      "text/plain": [
       "<Figure size 600x300 with 2 Axes>"
      ]
     },
     "metadata": {},
     "output_type": "display_data"
    }
   ],
   "source": [
    "# Flatten: (batch, 1, 28, 28) → (batch, 784)\n",
    "\n",
    "#Convertimos cada imagen del batch en un vector de 784 elementos\n",
    "x = torch.flatten(images, start_dim=1)\n",
    "\n",
    "\n",
    "print(x.shape)\n",
    "assert x.shape == (4, 784)\n",
    "\n",
    "\n",
    "#Vamos a visualizar uno de los vectores de los 4 del batch para entender que,\n",
    "# lo que se hace es convertir la imagen de 28x28 en un vector de 784 elementos,\n",
    "# perdiendo toda la información de la posición de los pixeles.\n",
    "\n",
    "fig, axes = plt.subplots(1, 2, figsize=(6, 3))\n",
    "\n",
    "# Original 2D (28x28)\n",
    "axes[0].imshow(images[0][0], cmap=\"gray\")\n",
    "axes[0].set_title(\"Imagen original 28×28\")\n",
    "axes[0].axis(\"off\")\n",
    "\n",
    "# Vector aplanado 1D (784 valores)\n",
    "axes[1].imshow(x[0].reshape(1, -1), cmap=\"gray\", aspect=\"auto\")\n",
    "axes[1].set_title(\"Vector aplanado (784)\")\n",
    "axes[1].axis(\"off\")\n",
    "\n",
    "plt.tight_layout()\n",
    "plt.show()\n"
   ]
  },
  {
   "cell_type": "code",
   "execution_count": null,
   "id": "832080d4",
   "metadata": {},
   "outputs": [],
   "source": [
    "#Definamos ahora nuestra red.\n",
    "import torch.nn as nn\n",
    "#Primero aplicamos flatten (tambien se puede hacer dentro de la red con un nn.Flatten() como vemos aqui)\n",
    "# x = torch.flatten(images, start_dim=1)\n",
    "\n",
    "mlp = nn.Sequential(\n",
    "    nn.Flatten(), # Aplana las imágenes de 28x28 a un vector de 784 elementos (Entrada)\n",
    "\n",
    "    nn.Linear(784, 512), # Una capa oculta lineal con 784 entradas y 512 salidas\n",
    "    nn.ReLU(), # Una función de activación ReLU\n",
    "\n",
    "    nn.Linear(512, 512), # Una capa oculta lineal con 512 entradas y 512 salidas\n",
    "    nn.ReLU(), # Una función de activación ReLU\n",
    "\n",
    "    nn.Linear(512, 10), # Una capa de salida lineal con 512 entradas y 10 salidas\n",
    "    nn.Softmax(dim=1) # Una función de activación softmax para obtener probabilidades\n",
    ")\n"
   ]
  }
 ],
 "metadata": {
  "kernelspec": {
   "display_name": "dlvs",
   "language": "python",
   "name": "python3"
  },
  "language_info": {
   "codemirror_mode": {
    "name": "ipython",
    "version": 3
   },
   "file_extension": ".py",
   "mimetype": "text/x-python",
   "name": "python",
   "nbconvert_exporter": "python",
   "pygments_lexer": "ipython3",
   "version": "3.12.3"
  }
 },
 "nbformat": 4,
 "nbformat_minor": 5
}
