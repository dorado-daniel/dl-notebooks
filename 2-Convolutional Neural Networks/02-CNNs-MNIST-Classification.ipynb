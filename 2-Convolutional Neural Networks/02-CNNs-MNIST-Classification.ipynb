{
 "cells": [
  {
   "cell_type": "markdown",
   "id": "93a3851c",
   "metadata": {},
   "source": [
    "Vamos a realizar una tarea de clasificacion con una CNN completa, usando MNIST como dataset, el \"hellow world\" de CV"
   ]
  },
  {
   "cell_type": "markdown",
   "id": "56390ae1",
   "metadata": {},
   "source": [
    "### Carga del Dataset"
   ]
  },
  {
   "cell_type": "code",
   "execution_count": 9,
   "id": "41757786",
   "metadata": {},
   "outputs": [
    {
     "name": "stdout",
     "output_type": "stream",
     "text": [
      "cuda\n",
      "torch.Size([4, 1, 28, 28]) torch.Size([4])\n"
     ]
    }
   ],
   "source": [
    "# Arranque: imports, dataset y primer batch (MNIST)\n",
    "import torch, torch.nn as nn, torch.nn.functional as F\n",
    "from torchvision import datasets, transforms\n",
    "from torch.utils.data import DataLoader\n",
    "import matplotlib.pyplot as plt\n",
    "\n",
    "\n",
    "torch.manual_seed(3)\n",
    "\n",
    "device = torch.device(\"cuda\" if torch.cuda.is_available() else \"cpu\")\n",
    "print(device)\n",
    "\n",
    "# Aqui convertimos las imagenes a tensores\n",
    "# Es decir, el valor de los pixeles pasa a estar entre 0 y 1\n",
    "# y el shape de las imagenes pasa a ser (C,H,W) (Canales, Alto, Ancho)\n",
    "\n",
    "transform = transforms.ToTensor()  # [0,1], shape (C,H,W)\n",
    "\n",
    "train = datasets.MNIST(root=\"./data\", train=True, download=True, transform=transform)\n",
    "test = datasets.MNIST(root=\"./data\", train=False, download=True, transform=transform)\n",
    "\n",
    "loader_train = DataLoader(train, batch_size=4, shuffle=True)\n",
    "loader_test = DataLoader(test, batch_size=4, shuffle=True)\n",
    "\n",
    "\n",
    "images, labels = next(iter(loader_train))\n",
    "print(images.shape, labels.shape)\n",
    "\n",
    "\n",
    "\n"
   ]
  },
  {
   "cell_type": "code",
   "execution_count": null,
   "id": "719aa4b4",
   "metadata": {},
   "outputs": [],
   "source": [
    "#Comprobamos que el shape de las imagenes es el esperado\n",
    "assert images.ndim == 4\n",
    "assert images.shape[1] == 1\n",
    "assert images.shape[2:] == (28, 28)\n",
    "assert images.min() >= 0.0 and images.max() <= 1."
   ]
  },
  {
   "cell_type": "markdown",
   "id": "9846a723",
   "metadata": {},
   "source": [
    "#### Definición de arquitectura CNN\n"
   ]
  },
  {
   "cell_type": "code",
   "execution_count": null,
   "id": "c4589f92",
   "metadata": {},
   "outputs": [
    {
     "name": "stdout",
     "output_type": "stream",
     "text": [
      "MiniCNN(\n",
      "  (features): Sequential(\n",
      "    (0): Conv2d(1, 32, kernel_size=(3, 3), stride=(1, 1), padding=(1, 1))\n",
      "    (1): ReLU()\n",
      "    (2): MaxPool2d(kernel_size=2, stride=2, padding=0, dilation=1, ceil_mode=False)\n",
      "    (3): Conv2d(32, 64, kernel_size=(3, 3), stride=(1, 1), padding=(1, 1))\n",
      "    (4): ReLU()\n",
      "    (5): MaxPool2d(kernel_size=2, stride=2, padding=0, dilation=1, ceil_mode=False)\n",
      "  )\n",
      "  (classifier): Sequential(\n",
      "    (0): Flatten(start_dim=1, end_dim=-1)\n",
      "    (1): Linear(in_features=3136, out_features=64, bias=True)\n",
      "    (2): ReLU()\n",
      "    (3): Linear(in_features=64, out_features=10, bias=True)\n",
      "  )\n",
      ")\n",
      "torch.Size([4, 10])\n"
     ]
    }
   ],
   "source": [
    "import torch\n",
    "import torch.nn as nn\n",
    "\n",
    "def get_flatten_size(model_features, input_shape=(1, 1, 28, 28)):\n",
    "    with torch.no_grad():\n",
    "        x = torch.zeros(input_shape)\n",
    "        out = model_features(x)\n",
    "        return out.view(out.size(0), -1).size(1)\n",
    "\n",
    "class MiniCNN(nn.Module):\n",
    "    def __init__(self):\n",
    "        super().__init__()\n",
    "        \n",
    "        self.features = nn.Sequential(\n",
    "\n",
    "            #Primera capa de convolucion, entra una imagen en blanco y negro (1 canal) y sale una imagen de 32 features (filtros)\n",
    "            #El kernel es de 3x3 y el padding es 1 (same padding)\n",
    "            nn.Conv2d(in_channels=1, out_channels=32, kernel_size=3, stride=1, padding=1),\n",
    "            nn.ReLU(), #Aplicamos la funcion de activacion ReLU\n",
    "            nn.MaxPool2d(kernel_size=2, stride=2), #Aplicamos pooling max para reducir la dimensionalidad de la imagen\n",
    "\n",
    "            #Segunda capa de convolucion, entra una imagen de 32 features y sale una imagen de 64 features\n",
    "            nn.Conv2d(in_channels=32, out_channels=64, kernel_size=3, stride=1, padding=1),\n",
    "            nn.ReLU(), #Aplicamos la funcion de activacion ReLU\n",
    "            nn.MaxPool2d(kernel_size=2, stride=2) #Aplicamos pooling max para reducir la dimensionalidad de la imagen\n",
    "        )\n",
    "\n",
    "        n_flat = get_flatten_size(self.features)\n",
    "\n",
    "        \n",
    "\n",
    "        #Añadimos una capa lineal para clasificar\n",
    "        self.classifier = nn.Sequential(\n",
    "            nn.Flatten(), #Aplanamos la imagen para que sea un vector\n",
    "            nn.Dropout(p=0.3), #Aplicamos dropout para evitar el overfitting\n",
    "            \n",
    "            nn.Linear(in_features=n_flat, out_features=64), #Una capa lineal con n_flat entradas y 64 salidas\n",
    "            nn.ReLU(), #Aplicamos la funcion de activacion ReLU\n",
    "            \n",
    "            nn.Dropout(p=0.5), #Aplicamos dropout para evitar el overfitting\n",
    "            \n",
    "            nn.Linear(in_features=64, out_features=10), #Una capa lineal con 64 entradas y 10 salidas\n",
    "            # No aplicamos softmax, ya que la funcion de perdida que usamos (CrossEntropyLoss) lo aplica por defecto\n",
    "            # nn.Softmax(dim=1)\n",
    "        )\n",
    "\n",
    "    def forward(self, x):\n",
    "        x = self.features(x)\n",
    "        x = self.classifier(x)\n",
    "        return x\n",
    "\n",
    "\n",
    "\n",
    "\n",
    "\n",
    "# Instancia\n",
    "model = MiniCNN()\n",
    "print(model)\n",
    "\n",
    "x = torch.randn(4, 1, 28, 28)\n",
    "logits = model(x)\n",
    "print(logits.shape)  # esperado: (4, 10)\n"
   ]
  },
  {
   "cell_type": "markdown",
   "id": "c00bdd0f",
   "metadata": {},
   "source": [
    "Vamos a imprimir un summary\n",
    "\n",
    "PyTorch usa formato NCHW:"
   ]
  },
  {
   "cell_type": "markdown",
   "id": "450e737d",
   "metadata": {},
   "source": [
    "| Posición | Significado                         | Ejemplo |\n",
    "| -------- | ----------------------------------- | ------- |\n",
    "| 0        | N → número de imágenes (batch size) | 4   (-1 = None (no definido)    |\n",
    "| 1        | C → canales o *features maps* (filtros)       | 32      |\n",
    "| 2        | H → alto de la imagen               | 28      |\n",
    "| 3        | W → ancho de la imagen              | 28      |\n"
   ]
  },
  {
   "cell_type": "code",
   "execution_count": 19,
   "id": "ee0c9556",
   "metadata": {},
   "outputs": [
    {
     "name": "stdout",
     "output_type": "stream",
     "text": [
      "----------------------------------------------------------------\n",
      "        Layer (type)               Output Shape         Param #\n",
      "================================================================\n",
      "            Conv2d-1           [-1, 32, 28, 28]             320\n",
      "              ReLU-2           [-1, 32, 28, 28]               0\n",
      "         MaxPool2d-3           [-1, 32, 14, 14]               0\n",
      "            Conv2d-4           [-1, 64, 14, 14]          18,496\n",
      "              ReLU-5           [-1, 64, 14, 14]               0\n",
      "         MaxPool2d-6             [-1, 64, 7, 7]               0\n",
      "           Flatten-7                 [-1, 3136]               0\n",
      "            Linear-8                   [-1, 64]         200,768\n",
      "              ReLU-9                   [-1, 64]               0\n",
      "           Linear-10                   [-1, 10]             650\n",
      "================================================================\n",
      "Total params: 220,234\n",
      "Trainable params: 220,234\n",
      "Non-trainable params: 0\n",
      "----------------------------------------------------------------\n",
      "Input size (MB): 0.00\n",
      "Forward/backward pass size (MB): 0.67\n",
      "Params size (MB): 0.84\n",
      "Estimated Total Size (MB): 1.51\n",
      "----------------------------------------------------------------\n"
     ]
    }
   ],
   "source": [
    "from torchsummary import summary\n",
    "\n",
    "summary(model.to(device), (1, 28, 28))"
   ]
  }
 ],
 "metadata": {
  "kernelspec": {
   "display_name": "dlvs",
   "language": "python",
   "name": "python3"
  },
  "language_info": {
   "codemirror_mode": {
    "name": "ipython",
    "version": 3
   },
   "file_extension": ".py",
   "mimetype": "text/x-python",
   "name": "python",
   "nbconvert_exporter": "python",
   "pygments_lexer": "ipython3",
   "version": "3.12.3"
  }
 },
 "nbformat": 4,
 "nbformat_minor": 5
}
