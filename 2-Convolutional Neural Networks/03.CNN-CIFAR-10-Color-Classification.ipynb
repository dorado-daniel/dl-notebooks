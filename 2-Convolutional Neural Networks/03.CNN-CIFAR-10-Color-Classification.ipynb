{
 "cells": [
  {
   "cell_type": "markdown",
   "id": "20ad4aa8",
   "metadata": {},
   "source": [
    "Vamos a entrenar una CNN, esta a ver a Color y con CIFAR-10."
   ]
  },
  {
   "cell_type": "code",
   "execution_count": 4,
   "id": "ceb06d0c",
   "metadata": {},
   "outputs": [
    {
     "name": "stdout",
     "output_type": "stream",
     "text": [
      "cuda\n",
      "torch.Size([128, 3, 32, 32]) torch.Size([128])\n"
     ]
    }
   ],
   "source": [
    "# Arranque: imports, dataset y primer batch (MNIST)\n",
    "import torch, torch.nn as nn, torch.nn.functional as F\n",
    "from torchvision import datasets, transforms\n",
    "from torch.utils.data import DataLoader\n",
    "import matplotlib.pyplot as plt\n",
    "\n",
    "\n",
    "torch.manual_seed(3)\n",
    "\n",
    "device = torch.device(\"cuda\" if torch.cuda.is_available() else \"cpu\")\n",
    "print(device)\n",
    "\n",
    "# Aqui convertimos las imagenes a tensores\n",
    "# Es decir, el valor de los pixeles pasa a estar entre 0 y 1\n",
    "# y el shape de las imagenes pasa a ser (C,H,W) (Canales, Alto, Ancho)\n",
    "\n",
    "transform = transforms.ToTensor()  # [0,1], shape (C,H,W)\n",
    "\n",
    "\n",
    "\n",
    "\n",
    "train = datasets.CIFAR10(root=\"./data\", train=True, download=True, transform=transform)\n",
    "test = datasets.CIFAR10(root=\"./data\", train=False, download=True, transform=transform)\n",
    "\n",
    "loader_train = DataLoader(train, batch_size=128, shuffle=True)\n",
    "loader_test = DataLoader(test, batch_size=128, shuffle=True)\n",
    "\n",
    "\n",
    "images, labels = next(iter(loader_train))\n",
    "print(images.shape, labels.shape)\n",
    "\n",
    "\n",
    "\n"
   ]
  },
  {
   "cell_type": "markdown",
   "id": "fbb0ecf8",
   "metadata": {},
   "source": [
    "Vamos a Normalizar los canales, esto es una buena practica y es común hacerlo.\n",
    "\n",
    "Se cargan todas las 50 000 imágenes de entrenamiento.\n",
    "\n",
    "Cada imagen se convierte a valores entre 0 y 1. (lo hicimos previamente con ToTensor)\n",
    "\n",
    "Ahora:\n",
    "\n",
    "Para cada canal (R, G, B) se calcula:\n",
    "\n",
    "media → el promedio de todos los valores de ese canal en todas las imágenes;\n",
    "\n",
    "desviación típica → cuánto varían esos valores respecto a la media."
   ]
  },
  {
   "cell_type": "code",
   "execution_count": null,
   "id": "73a8fa58",
   "metadata": {},
   "outputs": [],
   "source": [
    "#Paso 1: Convertir a float64 para que los calculos sean exactos\n",
    "\n",
    "\n",
    "#En PyTorch, cada tensor tiene dimensiones (también llamadas axes o dims).\n",
    "#Por ejemplo, un tensor de 3 dimensiones (3D) tiene forma (B, C, H, W)\n",
    "#Donde:\n",
    "#B = Batch size (numero de imagenes en el batch)\n",
    "#C = Canales (RGB, 3)\n",
    "#H = Alto\n",
    "#W = Ancho\n",
    "\n",
    "# 2. Inicializamos acumuladores\n",
    "#Son tensores 1D con tantos elementos como canales (R, G, B)\n",
    "# Seria algo como [0,0,0] con una precision de 64 bits para sus decimales\n",
    "sum_c = torch.zeros(3, dtype=torch.float64)\n",
    "sum_sq_c = torch.zeros(3, dtype=torch.float64)\n",
    "num_pixels = 0\n",
    "\n",
    "# 3. Bucle sobre cada batch\n",
    "for batch, _ in loader_train:\n",
    "    #Convertirmos  ese batch a float64 tambien\n",
    "    x = batch.to(torch.float64)\n",
    "    #Aseguramos que el shape sea (128, 3, 32, 32)\n",
    "    b, c, h, w = x.shape\n",
    "\n",
    "    # Sumaremos todos los valores de todos los píxeles de todas las imágenes,\n",
    "    # pero mantiene separados los tres canales (R, G, B).\n",
    "    #\n",
    "    # dim=(0,2,3) significa:\n",
    "    #  - dim=0 → recorre y suma todas las imágenes del batch\n",
    "    #  - dim=2 → recorre y suma todas las filas de píxeles (alto)\n",
    "    #  - dim=3 → recorre y suma todas las columnas de píxeles (ancho)\n",
    "    #\n",
    "    # No se indica dim=1 (los canales) precisamente para NO sumarlos,\n",
    "    # así PyTorch conserva esa dimensión y devuelve un vector con 3 valores:\n",
    "    #   sum_c[0] → suma total de todos los píxeles del canal rojo (R)\n",
    "    #   sum_c[1] → suma total de todos los píxeles del canal verde (G)\n",
    "    #   sum_c[2] → suma total de todos los píxeles del canal azul (B)\n",
    "    sum_c += x.sum(dim=(0, 2, 3))\n",
    "\n",
    "\n",
    "    # Suma de cuadrados por canal\n",
    "    sum_sq_c += (x ** 2).sum(dim=(0, 2, 3))\n",
    "    # Contamos cuántos píxeles llevamos acumulados\n",
    "    num_pixels += b * h * w\n",
    "\n",
    "# 4. Cálculo de medias y desviaciones\n",
    "mean = sum_c / num_pixels\n",
    "std = ((sum_sq_c / num_pixels) - mean**2).sqrt()\n",
    "\n",
    "print(\"mean:\", mean)\n",
    "print(\"std :\", std)\n",
    "\n",
    "\n",
    "\n",
    "\n",
    "\n",
    "\n",
    "\n",
    "\n",
    "\n",
    "\n"
   ]
  },
  {
   "cell_type": "code",
   "execution_count": null,
   "id": "b311f611",
   "metadata": {},
   "outputs": [],
   "source": [
    "A"
   ]
  }
 ],
 "metadata": {
  "kernelspec": {
   "display_name": "dlvs",
   "language": "python",
   "name": "python3"
  },
  "language_info": {
   "codemirror_mode": {
    "name": "ipython",
    "version": 3
   },
   "file_extension": ".py",
   "mimetype": "text/x-python",
   "name": "python",
   "nbconvert_exporter": "python",
   "pygments_lexer": "ipython3",
   "version": "3.12.3"
  }
 },
 "nbformat": 4,
 "nbformat_minor": 5
}
