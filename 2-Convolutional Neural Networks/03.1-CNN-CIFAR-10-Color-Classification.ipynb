{
 "cells": [
  {
   "cell_type": "markdown",
   "id": "20ad4aa8",
   "metadata": {},
   "source": [
    "Lo que hemos visto en la sección anterior, es una forma más manual de hacer la normalización.\n",
    "\n",
    "A continuación, condensaremos el conocimiento anterior.\n"
   ]
  },
  {
   "cell_type": "code",
   "execution_count": null,
   "id": "ceb06d0c",
   "metadata": {},
   "outputs": [
    {
     "name": "stdout",
     "output_type": "stream",
     "text": [
      "cuda\n",
      "mean: tensor([0.4881, 0.4829, 0.4498])\n",
      "std : tensor([0.2425, 0.2402, 0.2549])\n",
      "torch.Size([128, 3, 32, 32]) torch.Size([128])\n",
      "Mean (debería estar cerca de 0): tensor([0.0197, 0.0268, 0.0116])\n",
      "Std (debería estar cerca de 1): tensor([1.0364, 1.0124, 1.0330])\n"
     ]
    }
   ],
   "source": [
    "from torchvision import datasets, transforms\n",
    "from torch.utils.data import DataLoader\n",
    "import torch\n",
    "\n",
    "\n",
    "transform = transforms.ToTensor()\n",
    "\n",
    "train = datasets.CIFAR10(\"./data\", train=True, download=True, transform=transform)\n",
    "test_train = datasets.CIFAR10(\"./data\", train=False, download=True, transform=transform)\n",
    "\n",
    "loader_train = DataLoader(train, batch_size=len(train), shuffle=True)\n",
    "loader_test = DataLoader(test_train, batch_size=len(test_train), shuffle=True)\n",
    "\n",
    "imgs, _ = next(iter(loader_train))             # [50000,3,32,32]\n",
    "imgs = imgs.to(torch.float64)\n",
    "\n",
    "mean = imgs.mean(dim=(0,2,3))\n",
    "std  = imgs.std(dim=(0,2,3))\n",
    "print(mean, std)\n"
   ]
  },
  {
   "cell_type": "markdown",
   "id": "16340cfd",
   "metadata": {},
   "source": [
    "| Parámetro    | Valor                                                      |\n",
    "| ------------ | ---------------------------------------------------------- | \n",
    "| Mean ≈ -0.05 |  Correcto — centrado en 0 con ligera desviación por batch | \n",
    "| Std ≈ 1.0    |  Perfecto — escala normalizada                            |                        \n"
   ]
  }
 ],
 "metadata": {
  "kernelspec": {
   "display_name": "dlvs",
   "language": "python",
   "name": "python3"
  },
  "language_info": {
   "codemirror_mode": {
    "name": "ipython",
    "version": 3
   },
   "file_extension": ".py",
   "mimetype": "text/x-python",
   "name": "python",
   "nbconvert_exporter": "python",
   "pygments_lexer": "ipython3",
   "version": "3.12.3"
  }
 },
 "nbformat": 4,
 "nbformat_minor": 5
}
