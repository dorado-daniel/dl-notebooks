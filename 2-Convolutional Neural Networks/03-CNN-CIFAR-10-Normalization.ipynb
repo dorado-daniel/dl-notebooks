{
 "cells": [
  {
   "cell_type": "markdown",
   "id": "20ad4aa8",
   "metadata": {},
   "source": [
    "Vamos a entrenar una CNN, esta a vez a Color y con el ds CIFAR-10."
   ]
  },
  {
   "cell_type": "code",
   "execution_count": 2,
   "id": "ceb06d0c",
   "metadata": {},
   "outputs": [
    {
     "name": "stdout",
     "output_type": "stream",
     "text": [
      "cuda\n",
      "torch.Size([128, 3, 32, 32]) torch.Size([128])\n"
     ]
    }
   ],
   "source": [
    "# Arranque: imports, dataset y primer batch (MNIST)\n",
    "import torch, torch.nn as nn, torch.nn.functional as F\n",
    "from torchvision import datasets, transforms\n",
    "from torch.utils.data import DataLoader\n",
    "import matplotlib.pyplot as plt\n",
    "\n",
    "\n",
    "torch.manual_seed(3)\n",
    "\n",
    "device = torch.device(\"cuda\" if torch.cuda.is_available() else \"cpu\")\n",
    "print(device)\n",
    "\n",
    "# Aqui convertimos las imagenes a tensores\n",
    "# Es decir, el valor de los pixeles pasa a estar entre 0 y 1\n",
    "# y el shape de las imagenes pasa a ser (C,H,W) (Canales, Alto, Ancho)\n",
    "\n",
    "transform = transforms.ToTensor()  # [0,1], shape (C,H,W)\n",
    "\n",
    "\n",
    "\n",
    "\n",
    "train = datasets.CIFAR10(root=\"./data\", train=True, download=True, transform=transform)\n",
    "test = datasets.CIFAR10(root=\"./data\", train=False, download=True, transform=transform)\n",
    "\n",
    "loader_train = DataLoader(train, batch_size=128, shuffle=True)\n",
    "loader_test = DataLoader(test, batch_size=128, shuffle=True)\n",
    "\n",
    "\n",
    "images, labels = next(iter(loader_train))\n",
    "print(images.shape, labels.shape)\n",
    "\n",
    "\n",
    "\n"
   ]
  },
  {
   "cell_type": "markdown",
   "id": "7a88ac78",
   "metadata": {},
   "source": [
    "## Normalización \"manual\""
   ]
  },
  {
   "cell_type": "markdown",
   "id": "fbb0ecf8",
   "metadata": {},
   "source": [
    "Vamos a Normalizar los canales, esto es una buena practica y es común hacerlo.\n",
    "\n",
    "Se cargan todas las 50 000 imágenes de entrenamiento. (quedan 10.000 para test)\n",
    "\n",
    "Cada imagen se convierte a valores entre 0 y 1. (lo hicimos previamente con ToTensor)\n",
    "\n",
    "Ahora:\n",
    "\n",
    "Para cada canal (R, G, B) se calcula:\n",
    "\n",
    "media → el promedio de todos los valores de ese canal en todas las imágenes;\n",
    "\n",
    "desviación típica → cuánto varían esos valores respecto a la media.\n",
    "\n",
    "Tras eso se realiza un transform para normalizar los datos."
   ]
  },
  {
   "cell_type": "code",
   "execution_count": null,
   "id": "73a8fa58",
   "metadata": {},
   "outputs": [
    {
     "name": "stdout",
     "output_type": "stream",
     "text": [
      "mean: tensor([0.4914, 0.4822, 0.4465], dtype=torch.float64)\n",
      "std : tensor([0.2470, 0.2435, 0.2616], dtype=torch.float64)\n",
      "torch.Size([128, 3, 32, 32]) torch.Size([128])\n",
      "Mean (debería estar cerca de 0): tensor([-0.0497, -0.0542, -0.0447])\n",
      "Std (debería estar cerca de 1): tensor([1.0260, 1.0227, 0.9957])\n"
     ]
    }
   ],
   "source": [
    "#Paso 1: Convertir a float64 para que los calculos sean exactos\n",
    "\n",
    "\n",
    "#En PyTorch, cada tensor tiene dimensiones (también llamadas axes o dims).\n",
    "#Por ejemplo, un tensor de 3 dimensiones (3D) tiene forma (B, C, H, W)\n",
    "#Donde:\n",
    "#B = Batch size (numero de imagenes en el batch)\n",
    "#C = Canales (RGB, 3)\n",
    "#H = Alto\n",
    "#W = Ancho\n",
    "\n",
    "# 2. Inicializamos acumuladores\n",
    "#Son tensores 1D con tantos elementos como canales (R, G, B)\n",
    "# Seria algo como [0,0,0] con una precision de 64 bits para sus decimales\n",
    "sum_c = torch.zeros(3, dtype=torch.float64)\n",
    "sum_sq_c = torch.zeros(3, dtype=torch.float64)\n",
    "num_pixels = 0\n",
    "\n",
    "# 3. Bucle sobre cada batch\n",
    "for batch, _ in loader_train:\n",
    "    i = 0\n",
    "    #Convertirmos  ese batch a float64 tambien\n",
    "    x = batch.to(torch.float64)\n",
    "    #Aseguramos que el shape sea (128, 3, 32, 32)\n",
    "    b, c, h, w = x.shape\n",
    "\n",
    "    #Para entender esta linea, revisa 01-Tensor_Fundamentals.ipynb seccion \"Tensores aplicados a imagenes\"\n",
    "    #En resumen, sumamos todos los pixeles de cada canal de cada imagen en el batch y eso nos da un tensor de 3 elementos por imagen en el batch\n",
    "    # con todos los pixeles sumados por canal (R, G, B)\n",
    "    sum_c += x.sum(dim=(0, 2, 3))\n",
    "    assert sum_c.shape == (3,)\n",
    "\n",
    "\n",
    "    #Elevamos al cuadrado cada pixel de cada canal de cada imagen en el batch\n",
    "    # y sumamos todos los pixeles de cada canal de cada imagen en el batch\n",
    "    # esto es para calcular la varianza de los pixeles de cada canal de cada imagen en el batch\n",
    "    sum_sq_c += (x ** 2).sum(dim=(0, 2, 3))\n",
    "    assert sum_sq_c.shape == (3,)\n",
    "    \n",
    "\n",
    "    #Contamos cuantos pixeles llevamos acumulados\n",
    "    num_pixels += b * h * w\n",
    "    \n",
    "    ############################# BUCLE TERMINADO ##############################\n",
    "\n",
    "#Calculamos la media de los pixeles de cada canal de cada imagen en el batch\n",
    "mean = sum_c / num_pixels\n",
    "assert mean.shape == (3,)\n",
    "\n",
    "#Calculamos la desviacion estandar de los pixeles de cada canal de cada imagen en el batch\n",
    "std = ((sum_sq_c / num_pixels) - mean**2).sqrt()\n",
    "assert std.shape == (3,)\n",
    "\n",
    "print(\"mean:\", mean)\n",
    "print(\"std :\", std)\n",
    "\n",
    "#Creamos un transform que normaliza los pixeles de cada canal de cada imagen en el batch\n",
    "transform = transforms.Compose([\n",
    "    transforms.ToTensor(),\n",
    "    transforms.Normalize(mean.tolist(), std.tolist())\n",
    "])\n",
    "\n",
    "# Re-creamos los datasets con el nuevo transform\n",
    "train = datasets.CIFAR10(root=\"./data\", train=True, download=True, transform=transform)\n",
    "test = datasets.CIFAR10(root=\"./data\", train=False, download=True, transform=transform)\n",
    "\n",
    "#Cargamos los datos en batches\n",
    "loader_train = DataLoader(train, batch_size=128, shuffle=True)\n",
    "loader_test = DataLoader(test, batch_size=128, shuffle=True)\n",
    "\n",
    "#Como vemos hemos normalizado tanto el train como el test set, sin embargo, no calculamos mean y std de test set\n",
    "#Esto es porque no queremos que el modelo vea datos de test set durante el entrenamiento\n",
    "#Es decir, el modelo solo vera los datos de train set durante el entrenamiento \n",
    "#Y al final, evaluaremos el modelo con los datos de test set\n",
    "\n",
    "#ref https://stats.stackexchange.com/questions/495357/why-do-we-normalize-test-data-on-the-parameters-of-the-training-data\n",
    "#ref medium.com/%40spinjosovsky/normalize-data-before-or-after-split-of-training-and-testing-data-7b8005f81e26\n",
    "\n",
    "#Ahora vamos a comprobar que los datos estan normalizados\n",
    "images, labels = next(iter(loader_train))\n",
    "print(images.shape, labels.shape)\n",
    "\n",
    "mean_check = images.mean(dim=(0, 2, 3))\n",
    "std_check  = images.std(dim=(0, 2, 3))\n",
    "\n",
    "print(\"Mean (debería estar cerca de 0):\", mean_check)\n",
    "print(\"Std (debería estar cerca de 1):\", std_check)\n"
   ]
  },
  {
   "cell_type": "markdown",
   "id": "16340cfd",
   "metadata": {},
   "source": [
    "| Parámetro    | Valor                                                      |\n",
    "| ------------ | ---------------------------------------------------------- | \n",
    "| Mean ≈ -0.05 |  Correcto — centrado en 0 con ligera desviación por batch | \n",
    "| Std ≈ 1.0    |  Perfecto — escala normalizada                            |                \n",
    "| Ejecución    |  Correcta — sin renormalizaciones acumuladas              |                \n"
   ]
  }
 ],
 "metadata": {
  "kernelspec": {
   "display_name": "dlvs",
   "language": "python",
   "name": "python3"
  },
  "language_info": {
   "codemirror_mode": {
    "name": "ipython",
    "version": 3
   },
   "file_extension": ".py",
   "mimetype": "text/x-python",
   "name": "python",
   "nbconvert_exporter": "python",
   "pygments_lexer": "ipython3",
   "version": "3.12.3"
  }
 },
 "nbformat": 4,
 "nbformat_minor": 5
}
