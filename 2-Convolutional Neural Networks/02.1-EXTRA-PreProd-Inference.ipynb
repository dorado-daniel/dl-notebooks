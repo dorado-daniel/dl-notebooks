{
 "cells": [
  {
   "cell_type": "markdown",
   "id": "00cf42fc",
   "metadata": {},
   "source": [
    "Vamos a hacer un pequeño ejercicio de inferencia con el modelo ya entrenado"
   ]
  },
  {
   "cell_type": "code",
   "execution_count": 2,
   "id": "8e44631e",
   "metadata": {},
   "outputs": [
    {
     "data": {
      "text/plain": [
       "RecursiveScriptModule(\n",
       "  original_name=MiniCNN\n",
       "  (features): RecursiveScriptModule(\n",
       "    original_name=Sequential\n",
       "    (0): RecursiveScriptModule(original_name=Conv2d)\n",
       "    (1): RecursiveScriptModule(original_name=ReLU)\n",
       "    (2): RecursiveScriptModule(original_name=MaxPool2d)\n",
       "    (3): RecursiveScriptModule(original_name=Conv2d)\n",
       "    (4): RecursiveScriptModule(original_name=ReLU)\n",
       "    (5): RecursiveScriptModule(original_name=MaxPool2d)\n",
       "  )\n",
       "  (classifier): RecursiveScriptModule(\n",
       "    original_name=Sequential\n",
       "    (0): RecursiveScriptModule(original_name=Flatten)\n",
       "    (1): RecursiveScriptModule(original_name=Dropout)\n",
       "    (2): RecursiveScriptModule(original_name=Linear)\n",
       "    (3): RecursiveScriptModule(original_name=ReLU)\n",
       "    (4): RecursiveScriptModule(original_name=Dropout)\n",
       "    (5): RecursiveScriptModule(original_name=Linear)\n",
       "  )\n",
       ")"
      ]
     },
     "execution_count": 2,
     "metadata": {},
     "output_type": "execute_result"
    }
   ],
   "source": [
    "import cv2\n",
    "import numpy as np\n",
    "import matplotlib.pyplot as plt\n",
    "import torch\n",
    "\n",
    "\n",
    "device = torch.device(\"cuda\" if torch.cuda.is_available() else \"cpu\")\n",
    "\n",
    "model = torch.jit.load(\"mnist_model/minicnn_mnist_best.pt\", map_location=device)\n",
    "model.eval()\n"
   ]
  },
  {
   "cell_type": "code",
   "execution_count": null,
   "id": "0e9de291",
   "metadata": {},
   "outputs": [
    {
     "name": "stdout",
     "output_type": "stream",
     "text": [
      "No se pudo abrir inference_test_images/img1.png\n",
      "No se pudo abrir inference_test_images/img2.png\n",
      "No se pudo abrir inference_test_images/img3.png\n",
      "No se pudo abrir inference_test_images/img4.png\n",
      "No se pudo abrir inference_test_images/img5.png\n",
      "No se pudo abrir inference_test_images/img6.png\n"
     ]
    },
    {
     "name": "stderr",
     "output_type": "stream",
     "text": [
      "[ WARN:0@5.343] global loadsave.cpp:275 findDecoder imread_('inference_test_images/img1.png'): can't open/read file: check file path/integrity\n",
      "[ WARN:0@5.344] global loadsave.cpp:275 findDecoder imread_('inference_test_images/img2.png'): can't open/read file: check file path/integrity\n",
      "[ WARN:0@5.344] global loadsave.cpp:275 findDecoder imread_('inference_test_images/img3.png'): can't open/read file: check file path/integrity\n",
      "[ WARN:0@5.344] global loadsave.cpp:275 findDecoder imread_('inference_test_images/img4.png'): can't open/read file: check file path/integrity\n",
      "[ WARN:0@5.344] global loadsave.cpp:275 findDecoder imread_('inference_test_images/img5.png'): can't open/read file: check file path/integrity\n",
      "[ WARN:0@5.344] global loadsave.cpp:275 findDecoder imread_('inference_test_images/img6.png'): can't open/read file: check file path/integrity\n"
     ]
    },
    {
     "data": {
      "image/png": "[encoded data removed]",
      "text/plain": [
       "<Figure size 1200x300 with 6 Axes>"
      ]
     },
     "metadata": {},
     "output_type": "display_data"
    }
   ],
   "source": [
    "\n",
    "# lista de tus imágenes\n",
    "img_paths = [\n",
    "    \"inference_test_imgs/img1.png\",\n",
    "    \"inference_test_imgs/img2.png\",\n",
    "    \"inference_test_imgs/img3.png\",\n",
    "    \"inference_test_imgs/img4.png\",\n",
    "    \"inference_test_imgs/img5.png\",\n",
    "    \"inference_test_imgs/img6.png\",\n",
    "]\n",
    "\n",
    "fig, axes = plt.subplots(1, len(img_paths), figsize=(12, 3))\n",
    "\n",
    "for i, path in enumerate(img_paths):\n",
    "    # 1. Cargar en escala de grises\n",
    "    img = cv2.imread(path, cv2.IMREAD_GRAYSCALE)\n",
    "    if img is None:\n",
    "        print(f\"No se pudo abrir {path}\")\n",
    "        continue\n",
    "\n",
    "    # 2. Invertir si el fondo es claro\n",
    "    if np.mean(img) > 127:\n",
    "        img = cv2.bitwise_not(img)\n",
    "\n",
    "    # 3. Redimensionar a 28x28\n",
    "    img = cv2.resize(img, (28, 28), interpolation=cv2.INTER_AREA)\n",
    "\n",
    "    # 4. Normalizar y convertir a tensor\n",
    "    img_norm = img.astype(np.float32) / 255.0\n",
    "    tensor = torch.tensor(img_norm).unsqueeze(0).unsqueeze(0).to(device)\n",
    "\n",
    "    # 5. Inferencia\n",
    "    with torch.no_grad():\n",
    "        logits = model(tensor)\n",
    "        pred = logits.argmax(dim=1).item()\n",
    "\n",
    "    # 6. Mostrar\n",
    "    axes[i].imshow(img, cmap=\"gray\")\n",
    "    axes[i].set_title(f\"Pred: {pred}\")\n",
    "    axes[i].axis(\"off\")\n",
    "\n",
    "plt.tight_layout()\n",
    "plt.show()\n"
   ]
  }
 ],
 "metadata": {
  "kernelspec": {
   "display_name": "dlvs",
   "language": "python",
   "name": "python3"
  },
  "language_info": {
   "codemirror_mode": {
    "name": "ipython",
    "version": 3
   },
   "file_extension": ".py",
   "mimetype": "text/x-python",
   "name": "python",
   "nbconvert_exporter": "python",
   "pygments_lexer": "ipython3",
   "version": "3.12.3"
  }
 },
 "nbformat": 4,
 "nbformat_minor": 5
}
